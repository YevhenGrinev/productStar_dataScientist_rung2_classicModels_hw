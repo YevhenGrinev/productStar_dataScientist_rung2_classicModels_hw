{
 "cells": [
  {
   "cell_type": "code",
   "execution_count": 1,
   "id": "8fe52ddc-622b-450a-808a-e0715b83f94c",
   "metadata": {},
   "outputs": [
    {
     "name": "stdout",
     "output_type": "stream",
     "text": [
      "CPU times: user 4.23 s, sys: 541 ms, total: 4.77 s\n",
      "Wall time: 4.94 s\n"
     ]
    }
   ],
   "source": [
    "%%time\n",
    "\n",
    "import pandas as pd\n",
    "import numpy as np\n",
    "\n",
    "df = pd.read_csv('./application_train.csv')"
   ]
  },
  {
   "cell_type": "code",
   "execution_count": 2,
   "id": "395e621a-7a71-4e65-b0f2-97d837056a20",
   "metadata": {},
   "outputs": [
    {
     "data": {
      "text/html": [
       "<div>\n",
       "<style scoped>\n",
       "    .dataframe tbody tr th:only-of-type {\n",
       "        vertical-align: middle;\n",
       "    }\n",
       "\n",
       "    .dataframe tbody tr th {\n",
       "        vertical-align: top;\n",
       "    }\n",
       "\n",
       "    .dataframe thead th {\n",
       "        text-align: right;\n",
       "    }\n",
       "</style>\n",
       "<table border=\"1\" class=\"dataframe\">\n",
       "  <thead>\n",
       "    <tr style=\"text-align: right;\">\n",
       "      <th></th>\n",
       "      <th>SK_ID_CURR</th>\n",
       "      <th>TARGET</th>\n",
       "      <th>NAME_CONTRACT_TYPE</th>\n",
       "      <th>CODE_GENDER</th>\n",
       "      <th>FLAG_OWN_CAR</th>\n",
       "      <th>FLAG_OWN_REALTY</th>\n",
       "      <th>CNT_CHILDREN</th>\n",
       "      <th>AMT_INCOME_TOTAL</th>\n",
       "      <th>AMT_CREDIT</th>\n",
       "      <th>AMT_ANNUITY</th>\n",
       "      <th>...</th>\n",
       "      <th>FLAG_DOCUMENT_18</th>\n",
       "      <th>FLAG_DOCUMENT_19</th>\n",
       "      <th>FLAG_DOCUMENT_20</th>\n",
       "      <th>FLAG_DOCUMENT_21</th>\n",
       "      <th>AMT_REQ_CREDIT_BUREAU_HOUR</th>\n",
       "      <th>AMT_REQ_CREDIT_BUREAU_DAY</th>\n",
       "      <th>AMT_REQ_CREDIT_BUREAU_WEEK</th>\n",
       "      <th>AMT_REQ_CREDIT_BUREAU_MON</th>\n",
       "      <th>AMT_REQ_CREDIT_BUREAU_QRT</th>\n",
       "      <th>AMT_REQ_CREDIT_BUREAU_YEAR</th>\n",
       "    </tr>\n",
       "  </thead>\n",
       "  <tbody>\n",
       "    <tr>\n",
       "      <th>0</th>\n",
       "      <td>100002</td>\n",
       "      <td>1</td>\n",
       "      <td>Cash loans</td>\n",
       "      <td>M</td>\n",
       "      <td>N</td>\n",
       "      <td>Y</td>\n",
       "      <td>0</td>\n",
       "      <td>202500.0</td>\n",
       "      <td>406597.5</td>\n",
       "      <td>24700.5</td>\n",
       "      <td>...</td>\n",
       "      <td>0</td>\n",
       "      <td>0</td>\n",
       "      <td>0</td>\n",
       "      <td>0</td>\n",
       "      <td>0.0</td>\n",
       "      <td>0.0</td>\n",
       "      <td>0.0</td>\n",
       "      <td>0.0</td>\n",
       "      <td>0.0</td>\n",
       "      <td>1.0</td>\n",
       "    </tr>\n",
       "    <tr>\n",
       "      <th>1</th>\n",
       "      <td>100003</td>\n",
       "      <td>0</td>\n",
       "      <td>Cash loans</td>\n",
       "      <td>F</td>\n",
       "      <td>N</td>\n",
       "      <td>N</td>\n",
       "      <td>0</td>\n",
       "      <td>270000.0</td>\n",
       "      <td>1293502.5</td>\n",
       "      <td>35698.5</td>\n",
       "      <td>...</td>\n",
       "      <td>0</td>\n",
       "      <td>0</td>\n",
       "      <td>0</td>\n",
       "      <td>0</td>\n",
       "      <td>0.0</td>\n",
       "      <td>0.0</td>\n",
       "      <td>0.0</td>\n",
       "      <td>0.0</td>\n",
       "      <td>0.0</td>\n",
       "      <td>0.0</td>\n",
       "    </tr>\n",
       "    <tr>\n",
       "      <th>2</th>\n",
       "      <td>100004</td>\n",
       "      <td>0</td>\n",
       "      <td>Revolving loans</td>\n",
       "      <td>M</td>\n",
       "      <td>Y</td>\n",
       "      <td>Y</td>\n",
       "      <td>0</td>\n",
       "      <td>67500.0</td>\n",
       "      <td>135000.0</td>\n",
       "      <td>6750.0</td>\n",
       "      <td>...</td>\n",
       "      <td>0</td>\n",
       "      <td>0</td>\n",
       "      <td>0</td>\n",
       "      <td>0</td>\n",
       "      <td>0.0</td>\n",
       "      <td>0.0</td>\n",
       "      <td>0.0</td>\n",
       "      <td>0.0</td>\n",
       "      <td>0.0</td>\n",
       "      <td>0.0</td>\n",
       "    </tr>\n",
       "    <tr>\n",
       "      <th>3</th>\n",
       "      <td>100006</td>\n",
       "      <td>0</td>\n",
       "      <td>Cash loans</td>\n",
       "      <td>F</td>\n",
       "      <td>N</td>\n",
       "      <td>Y</td>\n",
       "      <td>0</td>\n",
       "      <td>135000.0</td>\n",
       "      <td>312682.5</td>\n",
       "      <td>29686.5</td>\n",
       "      <td>...</td>\n",
       "      <td>0</td>\n",
       "      <td>0</td>\n",
       "      <td>0</td>\n",
       "      <td>0</td>\n",
       "      <td>NaN</td>\n",
       "      <td>NaN</td>\n",
       "      <td>NaN</td>\n",
       "      <td>NaN</td>\n",
       "      <td>NaN</td>\n",
       "      <td>NaN</td>\n",
       "    </tr>\n",
       "    <tr>\n",
       "      <th>4</th>\n",
       "      <td>100007</td>\n",
       "      <td>0</td>\n",
       "      <td>Cash loans</td>\n",
       "      <td>M</td>\n",
       "      <td>N</td>\n",
       "      <td>Y</td>\n",
       "      <td>0</td>\n",
       "      <td>121500.0</td>\n",
       "      <td>513000.0</td>\n",
       "      <td>21865.5</td>\n",
       "      <td>...</td>\n",
       "      <td>0</td>\n",
       "      <td>0</td>\n",
       "      <td>0</td>\n",
       "      <td>0</td>\n",
       "      <td>0.0</td>\n",
       "      <td>0.0</td>\n",
       "      <td>0.0</td>\n",
       "      <td>0.0</td>\n",
       "      <td>0.0</td>\n",
       "      <td>0.0</td>\n",
       "    </tr>\n",
       "  </tbody>\n",
       "</table>\n",
       "<p>5 rows × 122 columns</p>\n",
       "</div>"
      ],
      "text/plain": [
       "   SK_ID_CURR  TARGET NAME_CONTRACT_TYPE CODE_GENDER FLAG_OWN_CAR  \\\n",
       "0      100002       1         Cash loans           M            N   \n",
       "1      100003       0         Cash loans           F            N   \n",
       "2      100004       0    Revolving loans           M            Y   \n",
       "3      100006       0         Cash loans           F            N   \n",
       "4      100007       0         Cash loans           M            N   \n",
       "\n",
       "  FLAG_OWN_REALTY  CNT_CHILDREN  AMT_INCOME_TOTAL  AMT_CREDIT  AMT_ANNUITY  \\\n",
       "0               Y             0          202500.0    406597.5      24700.5   \n",
       "1               N             0          270000.0   1293502.5      35698.5   \n",
       "2               Y             0           67500.0    135000.0       6750.0   \n",
       "3               Y             0          135000.0    312682.5      29686.5   \n",
       "4               Y             0          121500.0    513000.0      21865.5   \n",
       "\n",
       "   ...  FLAG_DOCUMENT_18 FLAG_DOCUMENT_19 FLAG_DOCUMENT_20 FLAG_DOCUMENT_21  \\\n",
       "0  ...                 0                0                0                0   \n",
       "1  ...                 0                0                0                0   \n",
       "2  ...                 0                0                0                0   \n",
       "3  ...                 0                0                0                0   \n",
       "4  ...                 0                0                0                0   \n",
       "\n",
       "  AMT_REQ_CREDIT_BUREAU_HOUR AMT_REQ_CREDIT_BUREAU_DAY  \\\n",
       "0                        0.0                       0.0   \n",
       "1                        0.0                       0.0   \n",
       "2                        0.0                       0.0   \n",
       "3                        NaN                       NaN   \n",
       "4                        0.0                       0.0   \n",
       "\n",
       "   AMT_REQ_CREDIT_BUREAU_WEEK  AMT_REQ_CREDIT_BUREAU_MON  \\\n",
       "0                         0.0                        0.0   \n",
       "1                         0.0                        0.0   \n",
       "2                         0.0                        0.0   \n",
       "3                         NaN                        NaN   \n",
       "4                         0.0                        0.0   \n",
       "\n",
       "   AMT_REQ_CREDIT_BUREAU_QRT  AMT_REQ_CREDIT_BUREAU_YEAR  \n",
       "0                        0.0                         1.0  \n",
       "1                        0.0                         0.0  \n",
       "2                        0.0                         0.0  \n",
       "3                        NaN                         NaN  \n",
       "4                        0.0                         0.0  \n",
       "\n",
       "[5 rows x 122 columns]"
      ]
     },
     "execution_count": 2,
     "metadata": {},
     "output_type": "execute_result"
    }
   ],
   "source": [
    "df.head()"
   ]
  },
  {
   "cell_type": "code",
   "execution_count": 3,
   "id": "29dd2825-378b-49e0-a42a-78b6ce1df354",
   "metadata": {},
   "outputs": [
    {
     "data": {
      "text/plain": [
       "(307511, 122)"
      ]
     },
     "execution_count": 3,
     "metadata": {},
     "output_type": "execute_result"
    }
   ],
   "source": [
    "df.shape"
   ]
  },
  {
   "cell_type": "code",
   "execution_count": 4,
   "id": "857c744e-8b2d-40d5-9b83-11c5dc9980be",
   "metadata": {},
   "outputs": [
    {
     "name": "stdout",
     "output_type": "stream",
     "text": [
      "CPU times: user 53.2 ms, sys: 22.3 ms, total: 75.6 ms\n",
      "Wall time: 75.5 ms\n"
     ]
    }
   ],
   "source": [
    "%%time\n",
    "df = df.sample(50000, random_state=0).reset_index(drop=True)"
   ]
  },
  {
   "cell_type": "code",
   "execution_count": 5,
   "id": "98b3961f-94c5-4a24-9c02-1c5eb5754ee5",
   "metadata": {},
   "outputs": [
    {
     "data": {
      "text/plain": [
       "(50000, 122)"
      ]
     },
     "execution_count": 5,
     "metadata": {},
     "output_type": "execute_result"
    }
   ],
   "source": [
    "df.shape"
   ]
  },
  {
   "cell_type": "code",
   "execution_count": 6,
   "id": "9a47621b-3484-440c-8802-781852a55031",
   "metadata": {},
   "outputs": [],
   "source": [
    "df.drop(columns=['SK_ID_CURR'], inplace=True)"
   ]
  },
  {
   "cell_type": "code",
   "execution_count": 7,
   "id": "ec2cb523-cd40-4da6-827f-0c9dc9985392",
   "metadata": {},
   "outputs": [],
   "source": [
    "# df = df.drop('SK_ID_CURR', axis='columns') "
   ]
  },
  {
   "cell_type": "code",
   "execution_count": 8,
   "id": "f86858b4-2e45-4977-b398-a367398f6e41",
   "metadata": {},
   "outputs": [
    {
     "data": {
      "text/plain": [
       "Index(['TARGET', 'NAME_CONTRACT_TYPE', 'CODE_GENDER', 'FLAG_OWN_CAR',\n",
       "       'FLAG_OWN_REALTY', 'CNT_CHILDREN', 'AMT_INCOME_TOTAL', 'AMT_CREDIT',\n",
       "       'AMT_ANNUITY', 'AMT_GOODS_PRICE',\n",
       "       ...\n",
       "       'FLAG_DOCUMENT_18', 'FLAG_DOCUMENT_19', 'FLAG_DOCUMENT_20',\n",
       "       'FLAG_DOCUMENT_21', 'AMT_REQ_CREDIT_BUREAU_HOUR',\n",
       "       'AMT_REQ_CREDIT_BUREAU_DAY', 'AMT_REQ_CREDIT_BUREAU_WEEK',\n",
       "       'AMT_REQ_CREDIT_BUREAU_MON', 'AMT_REQ_CREDIT_BUREAU_QRT',\n",
       "       'AMT_REQ_CREDIT_BUREAU_YEAR'],\n",
       "      dtype='object', length=121)"
      ]
     },
     "execution_count": 8,
     "metadata": {},
     "output_type": "execute_result"
    }
   ],
   "source": [
    "df.columns"
   ]
  },
  {
   "cell_type": "code",
   "execution_count": 9,
   "id": "945379a7-3d9a-4db7-8818-54d3ab740861",
   "metadata": {},
   "outputs": [
    {
     "data": {
      "text/plain": [
       "TARGET                          int64\n",
       "NAME_CONTRACT_TYPE             object\n",
       "CODE_GENDER                    object\n",
       "FLAG_OWN_CAR                   object\n",
       "FLAG_OWN_REALTY                object\n",
       "                               ...   \n",
       "AMT_REQ_CREDIT_BUREAU_DAY     float64\n",
       "AMT_REQ_CREDIT_BUREAU_WEEK    float64\n",
       "AMT_REQ_CREDIT_BUREAU_MON     float64\n",
       "AMT_REQ_CREDIT_BUREAU_QRT     float64\n",
       "AMT_REQ_CREDIT_BUREAU_YEAR    float64\n",
       "Length: 121, dtype: object"
      ]
     },
     "execution_count": 9,
     "metadata": {},
     "output_type": "execute_result"
    }
   ],
   "source": [
    "df.dtypes"
   ]
  },
  {
   "cell_type": "code",
   "execution_count": 10,
   "id": "0b17e38a-83f2-4a5d-a8ad-16f40c7e7757",
   "metadata": {},
   "outputs": [
    {
     "data": {
      "text/plain": [
       "['NAME_CONTRACT_TYPE',\n",
       " 'CODE_GENDER',\n",
       " 'FLAG_OWN_CAR',\n",
       " 'FLAG_OWN_REALTY',\n",
       " 'NAME_TYPE_SUITE',\n",
       " 'NAME_INCOME_TYPE',\n",
       " 'NAME_EDUCATION_TYPE',\n",
       " 'NAME_FAMILY_STATUS',\n",
       " 'NAME_HOUSING_TYPE',\n",
       " 'OCCUPATION_TYPE',\n",
       " 'WEEKDAY_APPR_PROCESS_START',\n",
       " 'ORGANIZATION_TYPE',\n",
       " 'FONDKAPREMONT_MODE',\n",
       " 'HOUSETYPE_MODE',\n",
       " 'WALLSMATERIAL_MODE',\n",
       " 'EMERGENCYSTATE_MODE']"
      ]
     },
     "execution_count": 10,
     "metadata": {},
     "output_type": "execute_result"
    }
   ],
   "source": [
    "df.dtypes[df.dtypes == object].keys().tolist()"
   ]
  },
  {
   "cell_type": "code",
   "execution_count": 11,
   "id": "d8074cd7-2eac-4675-b084-98e976a7f48c",
   "metadata": {},
   "outputs": [
    {
     "name": "stdout",
     "output_type": "stream",
     "text": [
      " --- NAME_CONTRACT_TYPE --- \n",
      "Cash loans         45188\n",
      "Revolving loans     4812\n",
      "Name: NAME_CONTRACT_TYPE, dtype: int64\n",
      " --- CODE_GENDER --- \n",
      "F      33029\n",
      "M      16970\n",
      "XNA        1\n",
      "Name: CODE_GENDER, dtype: int64\n",
      " --- FLAG_OWN_CAR --- \n",
      "N    32981\n",
      "Y    17019\n",
      "Name: FLAG_OWN_CAR, dtype: int64\n",
      " --- FLAG_OWN_REALTY --- \n",
      "Y    34758\n",
      "N    15242\n",
      "Name: FLAG_OWN_REALTY, dtype: int64\n",
      " --- NAME_TYPE_SUITE --- \n",
      "Unaccompanied      40492\n",
      "Family              6490\n",
      "Spouse, partner     1838\n",
      "Children             523\n",
      "Other_B              260\n",
      "Other_A              154\n",
      "Group of people       41\n",
      "Name: NAME_TYPE_SUITE, dtype: int64\n",
      " --- NAME_INCOME_TYPE --- \n",
      "Working                 25905\n",
      "Commercial associate    11653\n",
      "Pensioner                8910\n",
      "State servant            3520\n",
      "Student                     6\n",
      "Unemployed                  4\n",
      "Maternity leave             2\n",
      "Name: NAME_INCOME_TYPE, dtype: int64\n",
      " --- NAME_EDUCATION_TYPE --- \n",
      "Secondary / secondary special    35397\n",
      "Higher education                 12231\n",
      "Incomplete higher                 1709\n",
      "Lower secondary                    637\n",
      "Academic degree                     26\n",
      "Name: NAME_EDUCATION_TYPE, dtype: int64\n",
      " --- NAME_FAMILY_STATUS --- \n",
      "Married                 31958\n",
      "Single / not married     7372\n",
      "Civil marriage           4858\n",
      "Separated                3173\n",
      "Widow                    2638\n",
      "Unknown                     1\n",
      "Name: NAME_FAMILY_STATUS, dtype: int64\n",
      " --- NAME_HOUSING_TYPE --- \n",
      "House / apartment      44390\n",
      "With parents            2376\n",
      "Municipal apartment     1852\n",
      "Rented apartment         803\n",
      "Office apartment         414\n",
      "Co-op apartment          165\n",
      "Name: NAME_HOUSING_TYPE, dtype: int64\n",
      " --- OCCUPATION_TYPE --- \n",
      "Laborers                 8968\n",
      "Sales staff              5208\n",
      "Core staff               4645\n",
      "Managers                 3556\n",
      "Drivers                  2961\n",
      "High skill tech staff    1835\n",
      "Accountants              1569\n",
      "Medicine staff           1393\n",
      "Security staff           1110\n",
      "Cooking staff             992\n",
      "Cleaning staff            776\n",
      "Private service staff     454\n",
      "Low-skill Laborers        316\n",
      "Waiters/barmen staff      207\n",
      "Secretaries               201\n",
      "Realty agents             119\n",
      "HR staff                   93\n",
      "IT staff                   73\n",
      "Name: OCCUPATION_TYPE, dtype: int64\n",
      " --- WEEKDAY_APPR_PROCESS_START --- \n",
      "TUESDAY      8808\n",
      "WEDNESDAY    8584\n",
      "FRIDAY       8258\n",
      "THURSDAY     8190\n",
      "MONDAY       8106\n",
      "SATURDAY     5456\n",
      "SUNDAY       2598\n",
      "Name: WEEKDAY_APPR_PROCESS_START, dtype: int64\n",
      " --- ORGANIZATION_TYPE --- \n",
      "Business Entity Type 3    10992\n",
      "XNA                        8911\n",
      "Self-employed              6306\n",
      "Other                      2691\n",
      "Medicine                   1802\n",
      "Business Entity Type 2     1710\n",
      "Government                 1642\n",
      "School                     1469\n",
      "Trade: type 7              1269\n",
      "Kindergarten               1166\n",
      "Construction               1096\n",
      "Transport: type 4           918\n",
      "Business Entity Type 1      917\n",
      "Trade: type 3               597\n",
      "Industry: type 9            535\n",
      "Security                    532\n",
      "Industry: type 3            521\n",
      "Housing                     478\n",
      "Industry: type 11           467\n",
      "Bank                        436\n",
      "Military                    421\n",
      "Agriculture                 407\n",
      "Police                      383\n",
      "Transport: type 2           376\n",
      "Postal                      361\n",
      "Security Ministries         338\n",
      "Trade: type 2               321\n",
      "Services                    266\n",
      "Restaurant                  255\n",
      "Industry: type 7            232\n",
      "University                  223\n",
      "Transport: type 3           211\n",
      "Industry: type 1            172\n",
      "Electricity                 161\n",
      "Hotel                       157\n",
      "Industry: type 4            133\n",
      "Insurance                   107\n",
      "Trade: type 6               101\n",
      "Emergency                    91\n",
      "Telecom                      83\n",
      "Industry: type 5             81\n",
      "Advertising                  78\n",
      "Industry: type 12            75\n",
      "Industry: type 2             71\n",
      "Culture                      64\n",
      "Trade: type 1                61\n",
      "Legal Services               55\n",
      "Realtor                      51\n",
      "Cleaning                     44\n",
      "Mobile                       40\n",
      "Transport: type 1            35\n",
      "Industry: type 6             22\n",
      "Industry: type 10            18\n",
      "Industry: type 13            17\n",
      "Religion                     15\n",
      "Trade: type 5                 8\n",
      "Trade: type 4                 7\n",
      "Industry: type 8              4\n",
      "Name: ORGANIZATION_TYPE, dtype: int64\n",
      " --- FONDKAPREMONT_MODE --- \n",
      "reg oper account         12093\n",
      "reg oper spec account     1983\n",
      "org spec account           964\n",
      "not specified              946\n",
      "Name: FONDKAPREMONT_MODE, dtype: int64\n",
      " --- HOUSETYPE_MODE --- \n",
      "block of flats      24692\n",
      "specific housing      227\n",
      "terraced house        194\n",
      "Name: HOUSETYPE_MODE, dtype: int64\n",
      " --- WALLSMATERIAL_MODE --- \n",
      "Panel           10804\n",
      "Stone, brick    10610\n",
      "Block            1539\n",
      "Wooden            887\n",
      "Mixed             363\n",
      "Monolithic        293\n",
      "Others            269\n",
      "Name: WALLSMATERIAL_MODE, dtype: int64\n",
      " --- EMERGENCYSTATE_MODE --- \n",
      "No     26179\n",
      "Yes      372\n",
      "Name: EMERGENCYSTATE_MODE, dtype: int64\n"
     ]
    }
   ],
   "source": [
    "for c in df.dtypes[df.dtypes == object].keys().tolist():\n",
    "    print(\" --- %s --- \" % c)\n",
    "    print(df[c].value_counts())"
   ]
  },
  {
   "cell_type": "code",
   "execution_count": 12,
   "id": "51651f10-8e42-4d14-861e-b26055c42adc",
   "metadata": {},
   "outputs": [],
   "source": [
    "df.replace('XNA', np.nan, inplace=True)"
   ]
  },
  {
   "cell_type": "code",
   "execution_count": 13,
   "id": "48e5990e-451f-4dad-8aae-aeba3d73b9d9",
   "metadata": {},
   "outputs": [
    {
     "data": {
      "text/plain": [
       "F    33029\n",
       "M    16970\n",
       "Name: CODE_GENDER, dtype: int64"
      ]
     },
     "execution_count": 13,
     "metadata": {},
     "output_type": "execute_result"
    }
   ],
   "source": [
    "df['CODE_GENDER'].value_counts()"
   ]
  },
  {
   "cell_type": "code",
   "execution_count": 14,
   "id": "fcdc032e-250c-4888-ab46-e26ded77a0bf",
   "metadata": {},
   "outputs": [],
   "source": [
    "numeric_features = df.dtypes[(df.dtypes == np.float64) | (df.dtypes == np.int64)].keys().tolist()\n",
    "\n",
    "cat_features = ['NAME_CONTRACT_TYPE', 'CODE_GENDER', 'FLAG_OWN_CAR', 'FLAG_OWN_REALTY','EMERGENCYSTATE_MODE']"
   ]
  },
  {
   "cell_type": "code",
   "execution_count": 15,
   "id": "127abc54-3a79-42f6-99e6-a022257e5907",
   "metadata": {},
   "outputs": [
    {
     "data": {
      "text/plain": [
       "['TARGET',\n",
       " 'CNT_CHILDREN',\n",
       " 'AMT_INCOME_TOTAL',\n",
       " 'AMT_CREDIT',\n",
       " 'AMT_ANNUITY',\n",
       " 'AMT_GOODS_PRICE',\n",
       " 'REGION_POPULATION_RELATIVE',\n",
       " 'DAYS_BIRTH',\n",
       " 'DAYS_EMPLOYED',\n",
       " 'DAYS_REGISTRATION',\n",
       " 'DAYS_ID_PUBLISH',\n",
       " 'OWN_CAR_AGE',\n",
       " 'FLAG_MOBIL',\n",
       " 'FLAG_EMP_PHONE',\n",
       " 'FLAG_WORK_PHONE',\n",
       " 'FLAG_CONT_MOBILE',\n",
       " 'FLAG_PHONE',\n",
       " 'FLAG_EMAIL',\n",
       " 'CNT_FAM_MEMBERS',\n",
       " 'REGION_RATING_CLIENT',\n",
       " 'REGION_RATING_CLIENT_W_CITY',\n",
       " 'HOUR_APPR_PROCESS_START',\n",
       " 'REG_REGION_NOT_LIVE_REGION',\n",
       " 'REG_REGION_NOT_WORK_REGION',\n",
       " 'LIVE_REGION_NOT_WORK_REGION',\n",
       " 'REG_CITY_NOT_LIVE_CITY',\n",
       " 'REG_CITY_NOT_WORK_CITY',\n",
       " 'LIVE_CITY_NOT_WORK_CITY',\n",
       " 'EXT_SOURCE_1',\n",
       " 'EXT_SOURCE_2',\n",
       " 'EXT_SOURCE_3',\n",
       " 'APARTMENTS_AVG',\n",
       " 'BASEMENTAREA_AVG',\n",
       " 'YEARS_BEGINEXPLUATATION_AVG',\n",
       " 'YEARS_BUILD_AVG',\n",
       " 'COMMONAREA_AVG',\n",
       " 'ELEVATORS_AVG',\n",
       " 'ENTRANCES_AVG',\n",
       " 'FLOORSMAX_AVG',\n",
       " 'FLOORSMIN_AVG',\n",
       " 'LANDAREA_AVG',\n",
       " 'LIVINGAPARTMENTS_AVG',\n",
       " 'LIVINGAREA_AVG',\n",
       " 'NONLIVINGAPARTMENTS_AVG',\n",
       " 'NONLIVINGAREA_AVG',\n",
       " 'APARTMENTS_MODE',\n",
       " 'BASEMENTAREA_MODE',\n",
       " 'YEARS_BEGINEXPLUATATION_MODE',\n",
       " 'YEARS_BUILD_MODE',\n",
       " 'COMMONAREA_MODE',\n",
       " 'ELEVATORS_MODE',\n",
       " 'ENTRANCES_MODE',\n",
       " 'FLOORSMAX_MODE',\n",
       " 'FLOORSMIN_MODE',\n",
       " 'LANDAREA_MODE',\n",
       " 'LIVINGAPARTMENTS_MODE',\n",
       " 'LIVINGAREA_MODE',\n",
       " 'NONLIVINGAPARTMENTS_MODE',\n",
       " 'NONLIVINGAREA_MODE',\n",
       " 'APARTMENTS_MEDI',\n",
       " 'BASEMENTAREA_MEDI',\n",
       " 'YEARS_BEGINEXPLUATATION_MEDI',\n",
       " 'YEARS_BUILD_MEDI',\n",
       " 'COMMONAREA_MEDI',\n",
       " 'ELEVATORS_MEDI',\n",
       " 'ENTRANCES_MEDI',\n",
       " 'FLOORSMAX_MEDI',\n",
       " 'FLOORSMIN_MEDI',\n",
       " 'LANDAREA_MEDI',\n",
       " 'LIVINGAPARTMENTS_MEDI',\n",
       " 'LIVINGAREA_MEDI',\n",
       " 'NONLIVINGAPARTMENTS_MEDI',\n",
       " 'NONLIVINGAREA_MEDI',\n",
       " 'TOTALAREA_MODE',\n",
       " 'OBS_30_CNT_SOCIAL_CIRCLE',\n",
       " 'DEF_30_CNT_SOCIAL_CIRCLE',\n",
       " 'OBS_60_CNT_SOCIAL_CIRCLE',\n",
       " 'DEF_60_CNT_SOCIAL_CIRCLE',\n",
       " 'DAYS_LAST_PHONE_CHANGE',\n",
       " 'FLAG_DOCUMENT_2',\n",
       " 'FLAG_DOCUMENT_3',\n",
       " 'FLAG_DOCUMENT_4',\n",
       " 'FLAG_DOCUMENT_5',\n",
       " 'FLAG_DOCUMENT_6',\n",
       " 'FLAG_DOCUMENT_7',\n",
       " 'FLAG_DOCUMENT_8',\n",
       " 'FLAG_DOCUMENT_9',\n",
       " 'FLAG_DOCUMENT_10',\n",
       " 'FLAG_DOCUMENT_11',\n",
       " 'FLAG_DOCUMENT_12',\n",
       " 'FLAG_DOCUMENT_13',\n",
       " 'FLAG_DOCUMENT_14',\n",
       " 'FLAG_DOCUMENT_15',\n",
       " 'FLAG_DOCUMENT_16',\n",
       " 'FLAG_DOCUMENT_17',\n",
       " 'FLAG_DOCUMENT_18',\n",
       " 'FLAG_DOCUMENT_19',\n",
       " 'FLAG_DOCUMENT_20',\n",
       " 'FLAG_DOCUMENT_21',\n",
       " 'AMT_REQ_CREDIT_BUREAU_HOUR',\n",
       " 'AMT_REQ_CREDIT_BUREAU_DAY',\n",
       " 'AMT_REQ_CREDIT_BUREAU_WEEK',\n",
       " 'AMT_REQ_CREDIT_BUREAU_MON',\n",
       " 'AMT_REQ_CREDIT_BUREAU_QRT',\n",
       " 'AMT_REQ_CREDIT_BUREAU_YEAR',\n",
       " 'NAME_CONTRACT_TYPE',\n",
       " 'CODE_GENDER',\n",
       " 'FLAG_OWN_CAR',\n",
       " 'FLAG_OWN_REALTY',\n",
       " 'EMERGENCYSTATE_MODE']"
      ]
     },
     "execution_count": 15,
     "metadata": {},
     "output_type": "execute_result"
    }
   ],
   "source": [
    "df = df[numeric_features + cat_features]\n",
    "df.columns.tolist()"
   ]
  },
  {
   "cell_type": "code",
   "execution_count": 16,
   "id": "b926e749-8be0-45d7-b557-bd2abade7f42",
   "metadata": {},
   "outputs": [
    {
     "name": "stdout",
     "output_type": "stream",
     "text": [
      "(10000, 110)\n",
      "(40000, 110)\n"
     ]
    }
   ],
   "source": [
    "df_test = df.sample(n=10000, random_state=0)\n",
    "df_train = df.drop(index=df_test.index)\n",
    "\n",
    "df_test = df_test.reset_index(drop=True)\n",
    "df_train = df_train.reset_index(drop=True)\n",
    "\n",
    "print(df_test.shape)\n",
    "print(df_train.shape)"
   ]
  },
  {
   "cell_type": "code",
   "execution_count": 17,
   "id": "3e5007b9-509e-4ca5-a5af-8c4c80ed0015",
   "metadata": {},
   "outputs": [],
   "source": [
    "from sklearn.impute import SimpleImputer"
   ]
  },
  {
   "cell_type": "code",
   "execution_count": 18,
   "id": "74fccd6a-1e2e-451a-9352-66a94415d3b5",
   "metadata": {},
   "outputs": [],
   "source": [
    "imp_cat = SimpleImputer(strategy='most_frequent')"
   ]
  },
  {
   "cell_type": "code",
   "execution_count": 19,
   "id": "6d92879d-f6ef-4157-a4b0-c2af132acdac",
   "metadata": {},
   "outputs": [
    {
     "name": "stdout",
     "output_type": "stream",
     "text": [
      "CPU times: user 47.6 ms, sys: 1.5 ms, total: 49.1 ms\n",
      "Wall time: 48 ms\n"
     ]
    }
   ],
   "source": [
    "%%time \n",
    "\n",
    "df_train[cat_features] = imp_cat.fit_transform(df_train[cat_features])\n",
    "df_test[cat_features] = imp_cat.fit_transform(df_test[cat_features])"
   ]
  },
  {
   "cell_type": "code",
   "execution_count": 20,
   "id": "cbd0d53c-dd9b-4277-8854-042c5dfd1226",
   "metadata": {},
   "outputs": [
    {
     "name": "stdout",
     "output_type": "stream",
     "text": [
      "NAME_CONTRACT_TYPE     0\n",
      "CODE_GENDER            0\n",
      "FLAG_OWN_CAR           0\n",
      "FLAG_OWN_REALTY        0\n",
      "EMERGENCYSTATE_MODE    0\n",
      "dtype: int64\n",
      "\n",
      "NAME_CONTRACT_TYPE     0\n",
      "CODE_GENDER            0\n",
      "FLAG_OWN_CAR           0\n",
      "FLAG_OWN_REALTY        0\n",
      "EMERGENCYSTATE_MODE    0\n",
      "dtype: int64\n"
     ]
    }
   ],
   "source": [
    "print(df_train[cat_features].isna().sum())\n",
    "print()\n",
    "print(df_test[cat_features].isna().sum())"
   ]
  },
  {
   "cell_type": "code",
   "execution_count": 21,
   "id": "fec7b863-02ae-422a-b69a-39b5b5b0d9ec",
   "metadata": {},
   "outputs": [
    {
     "data": {
      "text/html": [
       "<div>\n",
       "<style scoped>\n",
       "    .dataframe tbody tr th:only-of-type {\n",
       "        vertical-align: middle;\n",
       "    }\n",
       "\n",
       "    .dataframe tbody tr th {\n",
       "        vertical-align: top;\n",
       "    }\n",
       "\n",
       "    .dataframe thead th {\n",
       "        text-align: right;\n",
       "    }\n",
       "</style>\n",
       "<table border=\"1\" class=\"dataframe\">\n",
       "  <thead>\n",
       "    <tr style=\"text-align: right;\">\n",
       "      <th></th>\n",
       "      <th>NAME_CONTRACT_TYPE</th>\n",
       "      <th>CODE_GENDER</th>\n",
       "      <th>FLAG_OWN_CAR</th>\n",
       "      <th>FLAG_OWN_REALTY</th>\n",
       "      <th>EMERGENCYSTATE_MODE</th>\n",
       "    </tr>\n",
       "  </thead>\n",
       "  <tbody>\n",
       "    <tr>\n",
       "      <th>0</th>\n",
       "      <td>Cash loans</td>\n",
       "      <td>F</td>\n",
       "      <td>N</td>\n",
       "      <td>N</td>\n",
       "      <td>No</td>\n",
       "    </tr>\n",
       "    <tr>\n",
       "      <th>1</th>\n",
       "      <td>Revolving loans</td>\n",
       "      <td>M</td>\n",
       "      <td>Y</td>\n",
       "      <td>Y</td>\n",
       "      <td>No</td>\n",
       "    </tr>\n",
       "    <tr>\n",
       "      <th>2</th>\n",
       "      <td>Cash loans</td>\n",
       "      <td>M</td>\n",
       "      <td>Y</td>\n",
       "      <td>Y</td>\n",
       "      <td>No</td>\n",
       "    </tr>\n",
       "    <tr>\n",
       "      <th>3</th>\n",
       "      <td>Cash loans</td>\n",
       "      <td>M</td>\n",
       "      <td>Y</td>\n",
       "      <td>Y</td>\n",
       "      <td>No</td>\n",
       "    </tr>\n",
       "    <tr>\n",
       "      <th>4</th>\n",
       "      <td>Cash loans</td>\n",
       "      <td>F</td>\n",
       "      <td>N</td>\n",
       "      <td>Y</td>\n",
       "      <td>No</td>\n",
       "    </tr>\n",
       "  </tbody>\n",
       "</table>\n",
       "</div>"
      ],
      "text/plain": [
       "  NAME_CONTRACT_TYPE CODE_GENDER FLAG_OWN_CAR FLAG_OWN_REALTY  \\\n",
       "0         Cash loans           F            N               N   \n",
       "1    Revolving loans           M            Y               Y   \n",
       "2         Cash loans           M            Y               Y   \n",
       "3         Cash loans           M            Y               Y   \n",
       "4         Cash loans           F            N               Y   \n",
       "\n",
       "  EMERGENCYSTATE_MODE  \n",
       "0                  No  \n",
       "1                  No  \n",
       "2                  No  \n",
       "3                  No  \n",
       "4                  No  "
      ]
     },
     "execution_count": 21,
     "metadata": {},
     "output_type": "execute_result"
    }
   ],
   "source": [
    "df_train[cat_features].head()"
   ]
  },
  {
   "cell_type": "code",
   "execution_count": 22,
   "id": "21414511-12b9-4b75-8d75-b776015f00b8",
   "metadata": {},
   "outputs": [],
   "source": [
    "from sklearn.preprocessing import OrdinalEncoder"
   ]
  },
  {
   "cell_type": "code",
   "execution_count": 23,
   "id": "f908a5f2-8a63-4a05-bb92-2264b2efe898",
   "metadata": {},
   "outputs": [],
   "source": [
    "enc = OrdinalEncoder()"
   ]
  },
  {
   "cell_type": "code",
   "execution_count": 24,
   "id": "223275cb-1ab1-40ea-b6bf-8ae2d0b55048",
   "metadata": {},
   "outputs": [
    {
     "name": "stdout",
     "output_type": "stream",
     "text": [
      "CPU times: user 71.9 ms, sys: 1.24 ms, total: 73.1 ms\n",
      "Wall time: 71.9 ms\n"
     ]
    }
   ],
   "source": [
    "%%time \n",
    "\n",
    "df_train[cat_features] = enc.fit_transform(df_train[cat_features])\n",
    "df_test[cat_features] = enc.fit_transform(df_test[cat_features])"
   ]
  },
  {
   "cell_type": "code",
   "execution_count": 25,
   "id": "664ff079-cbfa-420c-bc38-a785518b6bd8",
   "metadata": {},
   "outputs": [
    {
     "data": {
      "text/html": [
       "<div>\n",
       "<style scoped>\n",
       "    .dataframe tbody tr th:only-of-type {\n",
       "        vertical-align: middle;\n",
       "    }\n",
       "\n",
       "    .dataframe tbody tr th {\n",
       "        vertical-align: top;\n",
       "    }\n",
       "\n",
       "    .dataframe thead th {\n",
       "        text-align: right;\n",
       "    }\n",
       "</style>\n",
       "<table border=\"1\" class=\"dataframe\">\n",
       "  <thead>\n",
       "    <tr style=\"text-align: right;\">\n",
       "      <th></th>\n",
       "      <th>NAME_CONTRACT_TYPE</th>\n",
       "      <th>CODE_GENDER</th>\n",
       "      <th>FLAG_OWN_CAR</th>\n",
       "      <th>FLAG_OWN_REALTY</th>\n",
       "      <th>EMERGENCYSTATE_MODE</th>\n",
       "    </tr>\n",
       "  </thead>\n",
       "  <tbody>\n",
       "    <tr>\n",
       "      <th>0</th>\n",
       "      <td>0.0</td>\n",
       "      <td>0.0</td>\n",
       "      <td>0.0</td>\n",
       "      <td>0.0</td>\n",
       "      <td>0.0</td>\n",
       "    </tr>\n",
       "    <tr>\n",
       "      <th>1</th>\n",
       "      <td>1.0</td>\n",
       "      <td>1.0</td>\n",
       "      <td>1.0</td>\n",
       "      <td>1.0</td>\n",
       "      <td>0.0</td>\n",
       "    </tr>\n",
       "    <tr>\n",
       "      <th>2</th>\n",
       "      <td>0.0</td>\n",
       "      <td>1.0</td>\n",
       "      <td>1.0</td>\n",
       "      <td>1.0</td>\n",
       "      <td>0.0</td>\n",
       "    </tr>\n",
       "    <tr>\n",
       "      <th>3</th>\n",
       "      <td>0.0</td>\n",
       "      <td>1.0</td>\n",
       "      <td>1.0</td>\n",
       "      <td>1.0</td>\n",
       "      <td>0.0</td>\n",
       "    </tr>\n",
       "    <tr>\n",
       "      <th>4</th>\n",
       "      <td>0.0</td>\n",
       "      <td>0.0</td>\n",
       "      <td>0.0</td>\n",
       "      <td>1.0</td>\n",
       "      <td>0.0</td>\n",
       "    </tr>\n",
       "  </tbody>\n",
       "</table>\n",
       "</div>"
      ],
      "text/plain": [
       "   NAME_CONTRACT_TYPE  CODE_GENDER  FLAG_OWN_CAR  FLAG_OWN_REALTY  \\\n",
       "0                 0.0          0.0           0.0              0.0   \n",
       "1                 1.0          1.0           1.0              1.0   \n",
       "2                 0.0          1.0           1.0              1.0   \n",
       "3                 0.0          1.0           1.0              1.0   \n",
       "4                 0.0          0.0           0.0              1.0   \n",
       "\n",
       "   EMERGENCYSTATE_MODE  \n",
       "0                  0.0  \n",
       "1                  0.0  \n",
       "2                  0.0  \n",
       "3                  0.0  \n",
       "4                  0.0  "
      ]
     },
     "execution_count": 25,
     "metadata": {},
     "output_type": "execute_result"
    }
   ],
   "source": [
    "df_train[cat_features].head()"
   ]
  },
  {
   "cell_type": "code",
   "execution_count": 26,
   "id": "6d3f3cdd-33ba-48fe-8b6c-a09935702d23",
   "metadata": {},
   "outputs": [
    {
     "data": {
      "text/html": [
       "<div>\n",
       "<style scoped>\n",
       "    .dataframe tbody tr th:only-of-type {\n",
       "        vertical-align: middle;\n",
       "    }\n",
       "\n",
       "    .dataframe tbody tr th {\n",
       "        vertical-align: top;\n",
       "    }\n",
       "\n",
       "    .dataframe thead th {\n",
       "        text-align: right;\n",
       "    }\n",
       "</style>\n",
       "<table border=\"1\" class=\"dataframe\">\n",
       "  <thead>\n",
       "    <tr style=\"text-align: right;\">\n",
       "      <th></th>\n",
       "      <th>TARGET</th>\n",
       "      <th>CNT_CHILDREN</th>\n",
       "      <th>AMT_INCOME_TOTAL</th>\n",
       "      <th>AMT_CREDIT</th>\n",
       "      <th>AMT_ANNUITY</th>\n",
       "      <th>AMT_GOODS_PRICE</th>\n",
       "      <th>REGION_POPULATION_RELATIVE</th>\n",
       "      <th>DAYS_BIRTH</th>\n",
       "      <th>DAYS_EMPLOYED</th>\n",
       "      <th>DAYS_REGISTRATION</th>\n",
       "      <th>...</th>\n",
       "      <th>FLAG_DOCUMENT_18</th>\n",
       "      <th>FLAG_DOCUMENT_19</th>\n",
       "      <th>FLAG_DOCUMENT_20</th>\n",
       "      <th>FLAG_DOCUMENT_21</th>\n",
       "      <th>AMT_REQ_CREDIT_BUREAU_HOUR</th>\n",
       "      <th>AMT_REQ_CREDIT_BUREAU_DAY</th>\n",
       "      <th>AMT_REQ_CREDIT_BUREAU_WEEK</th>\n",
       "      <th>AMT_REQ_CREDIT_BUREAU_MON</th>\n",
       "      <th>AMT_REQ_CREDIT_BUREAU_QRT</th>\n",
       "      <th>AMT_REQ_CREDIT_BUREAU_YEAR</th>\n",
       "    </tr>\n",
       "  </thead>\n",
       "  <tbody>\n",
       "    <tr>\n",
       "      <th>0</th>\n",
       "      <td>1</td>\n",
       "      <td>0</td>\n",
       "      <td>117000.0</td>\n",
       "      <td>417024.0</td>\n",
       "      <td>20191.5</td>\n",
       "      <td>360000.0</td>\n",
       "      <td>0.020246</td>\n",
       "      <td>-21774</td>\n",
       "      <td>-2125</td>\n",
       "      <td>-4611.0</td>\n",
       "      <td>...</td>\n",
       "      <td>0</td>\n",
       "      <td>0</td>\n",
       "      <td>0</td>\n",
       "      <td>0</td>\n",
       "      <td>0.0</td>\n",
       "      <td>0.0</td>\n",
       "      <td>0.0</td>\n",
       "      <td>0.0</td>\n",
       "      <td>0.0</td>\n",
       "      <td>3.0</td>\n",
       "    </tr>\n",
       "    <tr>\n",
       "      <th>1</th>\n",
       "      <td>0</td>\n",
       "      <td>0</td>\n",
       "      <td>450000.0</td>\n",
       "      <td>640080.0</td>\n",
       "      <td>31261.5</td>\n",
       "      <td>450000.0</td>\n",
       "      <td>0.046220</td>\n",
       "      <td>-18499</td>\n",
       "      <td>-2055</td>\n",
       "      <td>-3052.0</td>\n",
       "      <td>...</td>\n",
       "      <td>0</td>\n",
       "      <td>0</td>\n",
       "      <td>0</td>\n",
       "      <td>0</td>\n",
       "      <td>0.0</td>\n",
       "      <td>0.0</td>\n",
       "      <td>0.0</td>\n",
       "      <td>0.0</td>\n",
       "      <td>0.0</td>\n",
       "      <td>1.0</td>\n",
       "    </tr>\n",
       "    <tr>\n",
       "      <th>2</th>\n",
       "      <td>0</td>\n",
       "      <td>0</td>\n",
       "      <td>450000.0</td>\n",
       "      <td>900000.0</td>\n",
       "      <td>45000.0</td>\n",
       "      <td>900000.0</td>\n",
       "      <td>0.010643</td>\n",
       "      <td>-18084</td>\n",
       "      <td>-4159</td>\n",
       "      <td>-8525.0</td>\n",
       "      <td>...</td>\n",
       "      <td>0</td>\n",
       "      <td>0</td>\n",
       "      <td>0</td>\n",
       "      <td>0</td>\n",
       "      <td>0.0</td>\n",
       "      <td>0.0</td>\n",
       "      <td>0.0</td>\n",
       "      <td>0.0</td>\n",
       "      <td>2.0</td>\n",
       "      <td>0.0</td>\n",
       "    </tr>\n",
       "    <tr>\n",
       "      <th>3</th>\n",
       "      <td>0</td>\n",
       "      <td>1</td>\n",
       "      <td>360000.0</td>\n",
       "      <td>1125000.0</td>\n",
       "      <td>33025.5</td>\n",
       "      <td>1125000.0</td>\n",
       "      <td>0.018634</td>\n",
       "      <td>-12319</td>\n",
       "      <td>-2532</td>\n",
       "      <td>-12304.0</td>\n",
       "      <td>...</td>\n",
       "      <td>0</td>\n",
       "      <td>0</td>\n",
       "      <td>0</td>\n",
       "      <td>0</td>\n",
       "      <td>0.0</td>\n",
       "      <td>0.0</td>\n",
       "      <td>0.0</td>\n",
       "      <td>0.0</td>\n",
       "      <td>0.0</td>\n",
       "      <td>1.0</td>\n",
       "    </tr>\n",
       "    <tr>\n",
       "      <th>4</th>\n",
       "      <td>0</td>\n",
       "      <td>0</td>\n",
       "      <td>675000.0</td>\n",
       "      <td>835380.0</td>\n",
       "      <td>42840.0</td>\n",
       "      <td>675000.0</td>\n",
       "      <td>0.020713</td>\n",
       "      <td>-10151</td>\n",
       "      <td>-2516</td>\n",
       "      <td>-2789.0</td>\n",
       "      <td>...</td>\n",
       "      <td>0</td>\n",
       "      <td>0</td>\n",
       "      <td>0</td>\n",
       "      <td>0</td>\n",
       "      <td>0.0</td>\n",
       "      <td>0.0</td>\n",
       "      <td>0.0</td>\n",
       "      <td>0.0</td>\n",
       "      <td>0.0</td>\n",
       "      <td>2.0</td>\n",
       "    </tr>\n",
       "  </tbody>\n",
       "</table>\n",
       "<p>5 rows × 105 columns</p>\n",
       "</div>"
      ],
      "text/plain": [
       "   TARGET  CNT_CHILDREN  AMT_INCOME_TOTAL  AMT_CREDIT  AMT_ANNUITY  \\\n",
       "0       1             0          117000.0    417024.0      20191.5   \n",
       "1       0             0          450000.0    640080.0      31261.5   \n",
       "2       0             0          450000.0    900000.0      45000.0   \n",
       "3       0             1          360000.0   1125000.0      33025.5   \n",
       "4       0             0          675000.0    835380.0      42840.0   \n",
       "\n",
       "   AMT_GOODS_PRICE  REGION_POPULATION_RELATIVE  DAYS_BIRTH  DAYS_EMPLOYED  \\\n",
       "0         360000.0                    0.020246      -21774          -2125   \n",
       "1         450000.0                    0.046220      -18499          -2055   \n",
       "2         900000.0                    0.010643      -18084          -4159   \n",
       "3        1125000.0                    0.018634      -12319          -2532   \n",
       "4         675000.0                    0.020713      -10151          -2516   \n",
       "\n",
       "   DAYS_REGISTRATION  ...  FLAG_DOCUMENT_18  FLAG_DOCUMENT_19  \\\n",
       "0            -4611.0  ...                 0                 0   \n",
       "1            -3052.0  ...                 0                 0   \n",
       "2            -8525.0  ...                 0                 0   \n",
       "3           -12304.0  ...                 0                 0   \n",
       "4            -2789.0  ...                 0                 0   \n",
       "\n",
       "   FLAG_DOCUMENT_20  FLAG_DOCUMENT_21  AMT_REQ_CREDIT_BUREAU_HOUR  \\\n",
       "0                 0                 0                         0.0   \n",
       "1                 0                 0                         0.0   \n",
       "2                 0                 0                         0.0   \n",
       "3                 0                 0                         0.0   \n",
       "4                 0                 0                         0.0   \n",
       "\n",
       "   AMT_REQ_CREDIT_BUREAU_DAY  AMT_REQ_CREDIT_BUREAU_WEEK  \\\n",
       "0                        0.0                         0.0   \n",
       "1                        0.0                         0.0   \n",
       "2                        0.0                         0.0   \n",
       "3                        0.0                         0.0   \n",
       "4                        0.0                         0.0   \n",
       "\n",
       "   AMT_REQ_CREDIT_BUREAU_MON  AMT_REQ_CREDIT_BUREAU_QRT  \\\n",
       "0                        0.0                        0.0   \n",
       "1                        0.0                        0.0   \n",
       "2                        0.0                        2.0   \n",
       "3                        0.0                        0.0   \n",
       "4                        0.0                        0.0   \n",
       "\n",
       "   AMT_REQ_CREDIT_BUREAU_YEAR  \n",
       "0                         3.0  \n",
       "1                         1.0  \n",
       "2                         0.0  \n",
       "3                         1.0  \n",
       "4                         2.0  \n",
       "\n",
       "[5 rows x 105 columns]"
      ]
     },
     "execution_count": 26,
     "metadata": {},
     "output_type": "execute_result"
    }
   ],
   "source": [
    "df[numeric_features].head()"
   ]
  },
  {
   "cell_type": "code",
   "execution_count": 27,
   "id": "bcb9e7ed-d1d7-4b95-a3a0-dd34ce7111d8",
   "metadata": {},
   "outputs": [],
   "source": [
    "cat_bin_features = []\n",
    "for i in numeric_features:\n",
    "    if len(df[i].value_counts().keys().tolist()) == 2:\n",
    "        cat_bin_features.append(i)"
   ]
  },
  {
   "cell_type": "code",
   "execution_count": 28,
   "id": "2cc3cc83-2e05-43f6-8f2e-5e4106f0526c",
   "metadata": {},
   "outputs": [
    {
     "data": {
      "text/plain": [
       "['TARGET',\n",
       " 'FLAG_EMP_PHONE',\n",
       " 'FLAG_WORK_PHONE',\n",
       " 'FLAG_CONT_MOBILE',\n",
       " 'FLAG_PHONE',\n",
       " 'FLAG_EMAIL',\n",
       " 'REG_REGION_NOT_LIVE_REGION',\n",
       " 'REG_REGION_NOT_WORK_REGION',\n",
       " 'LIVE_REGION_NOT_WORK_REGION',\n",
       " 'REG_CITY_NOT_LIVE_CITY',\n",
       " 'REG_CITY_NOT_WORK_CITY',\n",
       " 'LIVE_CITY_NOT_WORK_CITY',\n",
       " 'FLAG_DOCUMENT_2',\n",
       " 'FLAG_DOCUMENT_3',\n",
       " 'FLAG_DOCUMENT_4',\n",
       " 'FLAG_DOCUMENT_5',\n",
       " 'FLAG_DOCUMENT_6',\n",
       " 'FLAG_DOCUMENT_7',\n",
       " 'FLAG_DOCUMENT_8',\n",
       " 'FLAG_DOCUMENT_9',\n",
       " 'FLAG_DOCUMENT_10',\n",
       " 'FLAG_DOCUMENT_11',\n",
       " 'FLAG_DOCUMENT_13',\n",
       " 'FLAG_DOCUMENT_14',\n",
       " 'FLAG_DOCUMENT_15',\n",
       " 'FLAG_DOCUMENT_16',\n",
       " 'FLAG_DOCUMENT_17',\n",
       " 'FLAG_DOCUMENT_18',\n",
       " 'FLAG_DOCUMENT_19',\n",
       " 'FLAG_DOCUMENT_20',\n",
       " 'FLAG_DOCUMENT_21']"
      ]
     },
     "execution_count": 28,
     "metadata": {},
     "output_type": "execute_result"
    }
   ],
   "source": [
    "cat_bin_features"
   ]
  },
  {
   "cell_type": "code",
   "execution_count": 29,
   "id": "f6a56517-341f-4046-a074-7e2be2ea0976",
   "metadata": {},
   "outputs": [],
   "source": [
    "# df['TARGET'].value_counts().keys().tolist()"
   ]
  },
  {
   "cell_type": "code",
   "execution_count": 30,
   "id": "306fc7ab-82c7-46ec-9a1b-12befbae1ba3",
   "metadata": {},
   "outputs": [],
   "source": [
    "imp_bin_cat = SimpleImputer(strategy='most_frequent')"
   ]
  },
  {
   "cell_type": "code",
   "execution_count": 31,
   "id": "1f2cd020-efe3-4f98-8faa-20b7c2c4a7f6",
   "metadata": {},
   "outputs": [
    {
     "name": "stdout",
     "output_type": "stream",
     "text": [
      "CPU times: user 77.9 ms, sys: 3.39 ms, total: 81.3 ms\n",
      "Wall time: 80 ms\n"
     ]
    },
    {
     "name": "stderr",
     "output_type": "stream",
     "text": [
      "/Users/evgenijgrinev/opt/anaconda3/lib/python3.9/site-packages/sklearn/impute/_base.py:49: FutureWarning: Unlike other reduction functions (e.g. `skew`, `kurtosis`), the default behavior of `mode` typically preserves the axis it acts along. In SciPy 1.11.0, this behavior will change: the default value of `keepdims` will become False, the `axis` over which the statistic is taken will be eliminated, and the value None will no longer be accepted. Set `keepdims` to True or False to avoid this warning.\n",
      "  mode = stats.mode(array)\n",
      "/Users/evgenijgrinev/opt/anaconda3/lib/python3.9/site-packages/sklearn/impute/_base.py:49: FutureWarning: Unlike other reduction functions (e.g. `skew`, `kurtosis`), the default behavior of `mode` typically preserves the axis it acts along. In SciPy 1.11.0, this behavior will change: the default value of `keepdims` will become False, the `axis` over which the statistic is taken will be eliminated, and the value None will no longer be accepted. Set `keepdims` to True or False to avoid this warning.\n",
      "  mode = stats.mode(array)\n"
     ]
    }
   ],
   "source": [
    "%%time\n",
    "\n",
    "df_train[cat_bin_features] = imp_bin_cat.fit_transform(df_train[cat_bin_features])\n",
    "df_test[cat_bin_features] = imp_bin_cat.fit_transform(df_test[cat_bin_features])"
   ]
  },
  {
   "cell_type": "code",
   "execution_count": 32,
   "id": "5b13143f-90a3-4f95-95ba-0c24bbc7f90a",
   "metadata": {},
   "outputs": [
    {
     "data": {
      "text/plain": [
       "TARGET                         0\n",
       "FLAG_EMP_PHONE                 0\n",
       "FLAG_WORK_PHONE                0\n",
       "FLAG_CONT_MOBILE               0\n",
       "FLAG_PHONE                     0\n",
       "FLAG_EMAIL                     0\n",
       "REG_REGION_NOT_LIVE_REGION     0\n",
       "REG_REGION_NOT_WORK_REGION     0\n",
       "LIVE_REGION_NOT_WORK_REGION    0\n",
       "REG_CITY_NOT_LIVE_CITY         0\n",
       "REG_CITY_NOT_WORK_CITY         0\n",
       "LIVE_CITY_NOT_WORK_CITY        0\n",
       "FLAG_DOCUMENT_2                0\n",
       "FLAG_DOCUMENT_3                0\n",
       "FLAG_DOCUMENT_4                0\n",
       "FLAG_DOCUMENT_5                0\n",
       "FLAG_DOCUMENT_6                0\n",
       "FLAG_DOCUMENT_7                0\n",
       "FLAG_DOCUMENT_8                0\n",
       "FLAG_DOCUMENT_9                0\n",
       "FLAG_DOCUMENT_10               0\n",
       "FLAG_DOCUMENT_11               0\n",
       "FLAG_DOCUMENT_13               0\n",
       "FLAG_DOCUMENT_14               0\n",
       "FLAG_DOCUMENT_15               0\n",
       "FLAG_DOCUMENT_16               0\n",
       "FLAG_DOCUMENT_17               0\n",
       "FLAG_DOCUMENT_18               0\n",
       "FLAG_DOCUMENT_19               0\n",
       "FLAG_DOCUMENT_20               0\n",
       "FLAG_DOCUMENT_21               0\n",
       "dtype: int64"
      ]
     },
     "execution_count": 32,
     "metadata": {},
     "output_type": "execute_result"
    }
   ],
   "source": [
    "df_train[cat_bin_features].isna().sum()"
   ]
  },
  {
   "cell_type": "code",
   "execution_count": 33,
   "id": "18570878-9611-464b-b8f3-07a130f794fb",
   "metadata": {},
   "outputs": [],
   "source": [
    "imp_numeric = SimpleImputer(missing_values=np.nan, strategy='mean')"
   ]
  },
  {
   "cell_type": "code",
   "execution_count": 34,
   "id": "f0c69c3b-e680-45a4-9190-84e97b4489ce",
   "metadata": {},
   "outputs": [
    {
     "name": "stdout",
     "output_type": "stream",
     "text": [
      "CPU times: user 262 ms, sys: 27.3 ms, total: 289 ms\n",
      "Wall time: 296 ms\n"
     ]
    }
   ],
   "source": [
    "%%time \n",
    "\n",
    "df_train[numeric_features] = imp_numeric.fit_transform(df_train[numeric_features])\n",
    "df_test[numeric_features] = imp_numeric.fit_transform(df_test[numeric_features])"
   ]
  },
  {
   "cell_type": "code",
   "execution_count": 35,
   "id": "d0f3937d-4714-455a-b4a8-55530a0a43a4",
   "metadata": {},
   "outputs": [
    {
     "name": "stdout",
     "output_type": "stream",
     "text": [
      "110\n",
      "(40000, 110)\n"
     ]
    }
   ],
   "source": [
    "print(len(df_train.columns.tolist()))\n",
    "print(df_train.shape)"
   ]
  },
  {
   "cell_type": "code",
   "execution_count": 36,
   "id": "e5a20c0d-10ba-429b-a8d3-e0696eb392fa",
   "metadata": {},
   "outputs": [
    {
     "data": {
      "text/html": [
       "<div>\n",
       "<style scoped>\n",
       "    .dataframe tbody tr th:only-of-type {\n",
       "        vertical-align: middle;\n",
       "    }\n",
       "\n",
       "    .dataframe tbody tr th {\n",
       "        vertical-align: top;\n",
       "    }\n",
       "\n",
       "    .dataframe thead th {\n",
       "        text-align: right;\n",
       "    }\n",
       "</style>\n",
       "<table border=\"1\" class=\"dataframe\">\n",
       "  <thead>\n",
       "    <tr style=\"text-align: right;\">\n",
       "      <th></th>\n",
       "      <th>TARGET</th>\n",
       "      <th>CNT_CHILDREN</th>\n",
       "      <th>AMT_INCOME_TOTAL</th>\n",
       "      <th>AMT_CREDIT</th>\n",
       "      <th>AMT_ANNUITY</th>\n",
       "      <th>AMT_GOODS_PRICE</th>\n",
       "      <th>REGION_POPULATION_RELATIVE</th>\n",
       "      <th>DAYS_BIRTH</th>\n",
       "      <th>DAYS_EMPLOYED</th>\n",
       "      <th>DAYS_REGISTRATION</th>\n",
       "      <th>...</th>\n",
       "      <th>AMT_REQ_CREDIT_BUREAU_DAY</th>\n",
       "      <th>AMT_REQ_CREDIT_BUREAU_WEEK</th>\n",
       "      <th>AMT_REQ_CREDIT_BUREAU_MON</th>\n",
       "      <th>AMT_REQ_CREDIT_BUREAU_QRT</th>\n",
       "      <th>AMT_REQ_CREDIT_BUREAU_YEAR</th>\n",
       "      <th>NAME_CONTRACT_TYPE</th>\n",
       "      <th>CODE_GENDER</th>\n",
       "      <th>FLAG_OWN_CAR</th>\n",
       "      <th>FLAG_OWN_REALTY</th>\n",
       "      <th>EMERGENCYSTATE_MODE</th>\n",
       "    </tr>\n",
       "  </thead>\n",
       "  <tbody>\n",
       "    <tr>\n",
       "      <th>0</th>\n",
       "      <td>1.0</td>\n",
       "      <td>0.0</td>\n",
       "      <td>117000.0</td>\n",
       "      <td>417024.0</td>\n",
       "      <td>20191.5</td>\n",
       "      <td>360000.0</td>\n",
       "      <td>0.020246</td>\n",
       "      <td>-21774.0</td>\n",
       "      <td>-2125.0</td>\n",
       "      <td>-4611.0</td>\n",
       "      <td>...</td>\n",
       "      <td>0.0</td>\n",
       "      <td>0.0</td>\n",
       "      <td>0.0</td>\n",
       "      <td>0.0</td>\n",
       "      <td>3.0</td>\n",
       "      <td>0.0</td>\n",
       "      <td>0.0</td>\n",
       "      <td>0.0</td>\n",
       "      <td>0.0</td>\n",
       "      <td>0.0</td>\n",
       "    </tr>\n",
       "    <tr>\n",
       "      <th>1</th>\n",
       "      <td>0.0</td>\n",
       "      <td>0.0</td>\n",
       "      <td>450000.0</td>\n",
       "      <td>900000.0</td>\n",
       "      <td>45000.0</td>\n",
       "      <td>900000.0</td>\n",
       "      <td>0.010643</td>\n",
       "      <td>-18084.0</td>\n",
       "      <td>-4159.0</td>\n",
       "      <td>-8525.0</td>\n",
       "      <td>...</td>\n",
       "      <td>0.0</td>\n",
       "      <td>0.0</td>\n",
       "      <td>0.0</td>\n",
       "      <td>2.0</td>\n",
       "      <td>0.0</td>\n",
       "      <td>1.0</td>\n",
       "      <td>1.0</td>\n",
       "      <td>1.0</td>\n",
       "      <td>1.0</td>\n",
       "      <td>0.0</td>\n",
       "    </tr>\n",
       "    <tr>\n",
       "      <th>2</th>\n",
       "      <td>0.0</td>\n",
       "      <td>0.0</td>\n",
       "      <td>675000.0</td>\n",
       "      <td>835380.0</td>\n",
       "      <td>42840.0</td>\n",
       "      <td>675000.0</td>\n",
       "      <td>0.020713</td>\n",
       "      <td>-10151.0</td>\n",
       "      <td>-2516.0</td>\n",
       "      <td>-2789.0</td>\n",
       "      <td>...</td>\n",
       "      <td>0.0</td>\n",
       "      <td>0.0</td>\n",
       "      <td>0.0</td>\n",
       "      <td>0.0</td>\n",
       "      <td>2.0</td>\n",
       "      <td>0.0</td>\n",
       "      <td>1.0</td>\n",
       "      <td>1.0</td>\n",
       "      <td>1.0</td>\n",
       "      <td>0.0</td>\n",
       "    </tr>\n",
       "    <tr>\n",
       "      <th>3</th>\n",
       "      <td>0.0</td>\n",
       "      <td>2.0</td>\n",
       "      <td>112500.0</td>\n",
       "      <td>455040.0</td>\n",
       "      <td>12510.0</td>\n",
       "      <td>360000.0</td>\n",
       "      <td>0.018634</td>\n",
       "      <td>-20176.0</td>\n",
       "      <td>-878.0</td>\n",
       "      <td>-4818.0</td>\n",
       "      <td>...</td>\n",
       "      <td>0.0</td>\n",
       "      <td>0.0</td>\n",
       "      <td>0.0</td>\n",
       "      <td>0.0</td>\n",
       "      <td>1.0</td>\n",
       "      <td>0.0</td>\n",
       "      <td>1.0</td>\n",
       "      <td>1.0</td>\n",
       "      <td>1.0</td>\n",
       "      <td>0.0</td>\n",
       "    </tr>\n",
       "    <tr>\n",
       "      <th>4</th>\n",
       "      <td>0.0</td>\n",
       "      <td>0.0</td>\n",
       "      <td>99000.0</td>\n",
       "      <td>328405.5</td>\n",
       "      <td>16897.5</td>\n",
       "      <td>283500.0</td>\n",
       "      <td>0.010966</td>\n",
       "      <td>-19979.0</td>\n",
       "      <td>-5518.0</td>\n",
       "      <td>-9890.0</td>\n",
       "      <td>...</td>\n",
       "      <td>0.0</td>\n",
       "      <td>0.0</td>\n",
       "      <td>0.0</td>\n",
       "      <td>0.0</td>\n",
       "      <td>6.0</td>\n",
       "      <td>0.0</td>\n",
       "      <td>0.0</td>\n",
       "      <td>0.0</td>\n",
       "      <td>1.0</td>\n",
       "      <td>0.0</td>\n",
       "    </tr>\n",
       "  </tbody>\n",
       "</table>\n",
       "<p>5 rows × 110 columns</p>\n",
       "</div>"
      ],
      "text/plain": [
       "   TARGET  CNT_CHILDREN  AMT_INCOME_TOTAL  AMT_CREDIT  AMT_ANNUITY  \\\n",
       "0     1.0           0.0          117000.0    417024.0      20191.5   \n",
       "1     0.0           0.0          450000.0    900000.0      45000.0   \n",
       "2     0.0           0.0          675000.0    835380.0      42840.0   \n",
       "3     0.0           2.0          112500.0    455040.0      12510.0   \n",
       "4     0.0           0.0           99000.0    328405.5      16897.5   \n",
       "\n",
       "   AMT_GOODS_PRICE  REGION_POPULATION_RELATIVE  DAYS_BIRTH  DAYS_EMPLOYED  \\\n",
       "0         360000.0                    0.020246    -21774.0        -2125.0   \n",
       "1         900000.0                    0.010643    -18084.0        -4159.0   \n",
       "2         675000.0                    0.020713    -10151.0        -2516.0   \n",
       "3         360000.0                    0.018634    -20176.0         -878.0   \n",
       "4         283500.0                    0.010966    -19979.0        -5518.0   \n",
       "\n",
       "   DAYS_REGISTRATION  ...  AMT_REQ_CREDIT_BUREAU_DAY  \\\n",
       "0            -4611.0  ...                        0.0   \n",
       "1            -8525.0  ...                        0.0   \n",
       "2            -2789.0  ...                        0.0   \n",
       "3            -4818.0  ...                        0.0   \n",
       "4            -9890.0  ...                        0.0   \n",
       "\n",
       "   AMT_REQ_CREDIT_BUREAU_WEEK  AMT_REQ_CREDIT_BUREAU_MON  \\\n",
       "0                         0.0                        0.0   \n",
       "1                         0.0                        0.0   \n",
       "2                         0.0                        0.0   \n",
       "3                         0.0                        0.0   \n",
       "4                         0.0                        0.0   \n",
       "\n",
       "   AMT_REQ_CREDIT_BUREAU_QRT  AMT_REQ_CREDIT_BUREAU_YEAR  NAME_CONTRACT_TYPE  \\\n",
       "0                        0.0                         3.0                 0.0   \n",
       "1                        2.0                         0.0                 1.0   \n",
       "2                        0.0                         2.0                 0.0   \n",
       "3                        0.0                         1.0                 0.0   \n",
       "4                        0.0                         6.0                 0.0   \n",
       "\n",
       "   CODE_GENDER  FLAG_OWN_CAR  FLAG_OWN_REALTY  EMERGENCYSTATE_MODE  \n",
       "0          0.0           0.0              0.0                  0.0  \n",
       "1          1.0           1.0              1.0                  0.0  \n",
       "2          1.0           1.0              1.0                  0.0  \n",
       "3          1.0           1.0              1.0                  0.0  \n",
       "4          0.0           0.0              1.0                  0.0  \n",
       "\n",
       "[5 rows x 110 columns]"
      ]
     },
     "execution_count": 36,
     "metadata": {},
     "output_type": "execute_result"
    }
   ],
   "source": [
    "df_train.head()"
   ]
  },
  {
   "cell_type": "code",
   "execution_count": 37,
   "id": "5a1f7da7-5f1f-4e1d-94da-97818158ae20",
   "metadata": {},
   "outputs": [],
   "source": [
    "X_train = df_train[df_train.columns[1:][:]]\n",
    "X_test = df_test[df_test.columns[1:][:]]\n",
    "\n",
    "y_train = df_train[df_train.columns[:1][:]]\n",
    "y_test = df_test[df_test.columns[:1][:]]\n",
    "\n",
    "# X_train.head()\n",
    "# y_train.head()"
   ]
  },
  {
   "cell_type": "code",
   "execution_count": 38,
   "id": "da228907-28cb-4f1b-a134-08c06aa6c0c2",
   "metadata": {},
   "outputs": [],
   "source": [
    "from sklearn.preprocessing import StandardScaler"
   ]
  },
  {
   "cell_type": "code",
   "execution_count": 39,
   "id": "8170ecab-ccbe-40f9-8e6c-e3671f26cdc9",
   "metadata": {},
   "outputs": [],
   "source": [
    "standard = StandardScaler()\n",
    "\n",
    "standard.fit(X_train)\n",
    "\n",
    "X_train_standart = standard.transform(X_train)\n",
    "X_test_standart = standard.transform(X_test)"
   ]
  },
  {
   "cell_type": "code",
   "execution_count": 40,
   "id": "eb06ccfc-e6a8-47b5-b8b1-45deceac8ea5",
   "metadata": {},
   "outputs": [],
   "source": [
    "from sklearn.metrics import roc_auc_score "
   ]
  },
  {
   "cell_type": "code",
   "execution_count": 41,
   "id": "dbf742a1-ee53-4de7-a250-44e2313cb1e4",
   "metadata": {},
   "outputs": [
    {
     "data": {
      "text/html": [
       "<div>\n",
       "<style scoped>\n",
       "    .dataframe tbody tr th:only-of-type {\n",
       "        vertical-align: middle;\n",
       "    }\n",
       "\n",
       "    .dataframe tbody tr th {\n",
       "        vertical-align: top;\n",
       "    }\n",
       "\n",
       "    .dataframe thead th {\n",
       "        text-align: right;\n",
       "    }\n",
       "</style>\n",
       "<table border=\"1\" class=\"dataframe\">\n",
       "  <thead>\n",
       "    <tr style=\"text-align: right;\">\n",
       "      <th></th>\n",
       "      <th>TARGET</th>\n",
       "    </tr>\n",
       "  </thead>\n",
       "  <tbody>\n",
       "    <tr>\n",
       "      <th>0</th>\n",
       "      <td>1.0</td>\n",
       "    </tr>\n",
       "    <tr>\n",
       "      <th>1</th>\n",
       "      <td>0.0</td>\n",
       "    </tr>\n",
       "    <tr>\n",
       "      <th>2</th>\n",
       "      <td>0.0</td>\n",
       "    </tr>\n",
       "    <tr>\n",
       "      <th>3</th>\n",
       "      <td>0.0</td>\n",
       "    </tr>\n",
       "    <tr>\n",
       "      <th>4</th>\n",
       "      <td>0.0</td>\n",
       "    </tr>\n",
       "  </tbody>\n",
       "</table>\n",
       "</div>"
      ],
      "text/plain": [
       "   TARGET\n",
       "0     1.0\n",
       "1     0.0\n",
       "2     0.0\n",
       "3     0.0\n",
       "4     0.0"
      ]
     },
     "execution_count": 41,
     "metadata": {},
     "output_type": "execute_result"
    }
   ],
   "source": [
    "y_train.head()"
   ]
  },
  {
   "cell_type": "code",
   "execution_count": 42,
   "id": "2b32cbc6-0798-4f97-a68e-f1bac923f725",
   "metadata": {},
   "outputs": [
    {
     "data": {
      "text/plain": [
       "0.5"
      ]
     },
     "execution_count": 42,
     "metadata": {},
     "output_type": "execute_result"
    }
   ],
   "source": [
    "roc_auc_score(y_train, [0]*len(y_train))"
   ]
  },
  {
   "cell_type": "code",
   "execution_count": 43,
   "id": "5ed61b30-c9d5-4220-889b-bd460e77bd26",
   "metadata": {},
   "outputs": [],
   "source": [
    "# [0]*len(y_train)"
   ]
  },
  {
   "cell_type": "code",
   "execution_count": 44,
   "id": "a5da932f-16e0-4590-bb6e-1b6f6ad562b9",
   "metadata": {},
   "outputs": [
    {
     "data": {
      "text/plain": [
       "0.5"
      ]
     },
     "execution_count": 44,
     "metadata": {},
     "output_type": "execute_result"
    }
   ],
   "source": [
    "roc_auc_score(y_train, [1]*len(y_train))"
   ]
  },
  {
   "cell_type": "code",
   "execution_count": 45,
   "id": "64e2c8e5-74c9-499f-b0de-c8e327e1e176",
   "metadata": {},
   "outputs": [],
   "source": [
    "from sklearn.linear_model import LogisticRegression"
   ]
  },
  {
   "cell_type": "code",
   "execution_count": 46,
   "id": "61af152f-c187-4d80-95c4-e9359bd47a46",
   "metadata": {},
   "outputs": [],
   "source": [
    "logreg = LogisticRegression(max_iter = 1000)"
   ]
  },
  {
   "cell_type": "code",
   "execution_count": 47,
   "id": "0c3e9fcd-1f36-4964-afa9-dd6719a1c9c8",
   "metadata": {},
   "outputs": [
    {
     "name": "stderr",
     "output_type": "stream",
     "text": [
      "/Users/evgenijgrinev/opt/anaconda3/lib/python3.9/site-packages/sklearn/utils/validation.py:993: DataConversionWarning: A column-vector y was passed when a 1d array was expected. Please change the shape of y to (n_samples, ), for example using ravel().\n",
      "  y = column_or_1d(y, warn=True)\n"
     ]
    },
    {
     "data": {
      "text/plain": [
       "LogisticRegression(max_iter=1000)"
      ]
     },
     "execution_count": 47,
     "metadata": {},
     "output_type": "execute_result"
    }
   ],
   "source": [
    "logreg.fit(X_train_standart, y_train)"
   ]
  },
  {
   "cell_type": "raw",
   "id": "70365616-45ba-47d4-87ff-940a26c69416",
   "metadata": {},
   "source": [
    "1 columns belonging to 0, 2 columns belonging to 1 "
   ]
  },
  {
   "cell_type": "code",
   "execution_count": 48,
   "id": "7c0ffa83-18ec-4fa5-8efb-0ca020ed53fd",
   "metadata": {},
   "outputs": [
    {
     "data": {
      "text/plain": [
       "0.7319295264537878"
      ]
     },
     "execution_count": 48,
     "metadata": {},
     "output_type": "execute_result"
    }
   ],
   "source": [
    "roc_auc_score(y_test, logreg.predict_proba(X_test_standart)[:,1])"
   ]
  },
  {
   "cell_type": "code",
   "execution_count": 49,
   "id": "b023a60e-f6de-4fa3-a52a-28bfc41e13fa",
   "metadata": {},
   "outputs": [],
   "source": [
    "roc_auc = roc_auc_score(y_test, logreg.predict_proba(X_test_standart)[:,1])"
   ]
  },
  {
   "cell_type": "code",
   "execution_count": 50,
   "id": "3b8d9458-ce6c-4e20-89ed-bf39904353e6",
   "metadata": {},
   "outputs": [],
   "source": [
    "proba = logreg.predict_proba(X_test_standart)"
   ]
  },
  {
   "cell_type": "code",
   "execution_count": 51,
   "id": "4245a595-16a1-4d27-bf81-3c251516d741",
   "metadata": {},
   "outputs": [
    {
     "data": {
      "text/plain": [
       "array([[0.91985942, 0.08014058],\n",
       "       [0.93368805, 0.06631195],\n",
       "       [0.97294105, 0.02705895],\n",
       "       ...,\n",
       "       [0.9439435 , 0.0560565 ],\n",
       "       [0.96225885, 0.03774115],\n",
       "       [0.94563721, 0.05436279]])"
      ]
     },
     "execution_count": 51,
     "metadata": {},
     "output_type": "execute_result"
    }
   ],
   "source": [
    "logreg.predict_proba(X_test_standart)"
   ]
  },
  {
   "cell_type": "code",
   "execution_count": 52,
   "id": "572739e5-16bc-4f3f-b819-3308357cd0d4",
   "metadata": {},
   "outputs": [
    {
     "data": {
      "text/plain": [
       "array([0.08014058, 0.06631195, 0.02705895, ..., 0.0560565 , 0.03774115,\n",
       "       0.05436279])"
      ]
     },
     "execution_count": 52,
     "metadata": {},
     "output_type": "execute_result"
    }
   ],
   "source": [
    "logreg.predict_proba(X_test_standart)[:,1]"
   ]
  },
  {
   "cell_type": "code",
   "execution_count": 53,
   "id": "d6a3a17b-d102-4278-910b-930d8d28b973",
   "metadata": {},
   "outputs": [],
   "source": [
    "from sklearn.metrics import roc_curve"
   ]
  },
  {
   "cell_type": "code",
   "execution_count": 54,
   "id": "32be790e-7f4c-4d1b-821e-62de35cf6749",
   "metadata": {},
   "outputs": [],
   "source": [
    "fpr, tpr, thresholds = roc_curve(y_test, logreg.predict_proba(X_test_standart)[:,1])"
   ]
  },
  {
   "cell_type": "code",
   "execution_count": 55,
   "id": "5ce86101-7a86-4226-a99f-baf5547d9d80",
   "metadata": {},
   "outputs": [
    {
     "name": "stdout",
     "output_type": "stream",
     "text": [
      "[0.00000000e+00 0.00000000e+00 2.18269126e-04 ... 9.93015388e-01\n",
      " 9.93015388e-01 1.00000000e+00]\n",
      "\n",
      "[0.         0.00119474 0.00119474 ... 0.99880526 1.         1.        ]\n",
      "\n",
      "[1.59381725e+00 5.93817252e-01 5.49893355e-01 ... 6.08632003e-03\n",
      " 6.02865885e-03 2.13996823e-05]\n"
     ]
    }
   ],
   "source": [
    "print(fpr)\n",
    "print()\n",
    "print(tpr)\n",
    "print()\n",
    "print(thresholds)"
   ]
  },
  {
   "cell_type": "code",
   "execution_count": 56,
   "id": "8b1fb6c3-7f86-4d4c-95cb-daecb747a823",
   "metadata": {},
   "outputs": [
    {
     "data": {
      "image/png": "[encoded data removed]",
      "text/plain": [
       "<Figure size 640x480 with 1 Axes>"
      ]
     },
     "metadata": {},
     "output_type": "display_data"
    }
   ],
   "source": [
    "from matplotlib import pyplot as plt\n",
    "\n",
    "plt.figure()\n",
    "# lw = linewieght \n",
    "lw = 2\n",
    "\n",
    "plt.plot(fpr, tpr, color='darkorange', lw=lw, label='ROC curve (area = %0.2f)' % roc_auc)\n",
    "plt.plot([0,1],[0,1], color='blue', lw=lw, linestyle='--')\n",
    "plt.xlim([0.0, 1.0])\n",
    "plt.ylim([0.0, 1.05])\n",
    "plt.xlabel('False Positive Rate') \n",
    "plt.ylabel('True Positive Rate') \n",
    "plt.title('Receiver operating characteristic example') \n",
    "plt.legend(loc=\"upper left\")\n",
    "plt.show()"
   ]
  },
  {
   "cell_type": "code",
   "execution_count": 57,
   "id": "a183ab35-0c21-4fc3-8fc9-da721a413d78",
   "metadata": {},
   "outputs": [],
   "source": [
    "from sklearn.metrics import f1_score, precision_score, recall_score"
   ]
  },
  {
   "cell_type": "code",
   "execution_count": 58,
   "id": "851be6a2-9029-491a-b7ef-496993405ee2",
   "metadata": {},
   "outputs": [
    {
     "name": "stdout",
     "output_type": "stream",
     "text": [
      "1.0\n",
      "0.0837\n",
      "0.15447079450032297\n"
     ]
    }
   ],
   "source": [
    "# prediction = 1\n",
    "print(recall_score(y_test, [1]*len(y_test)))\n",
    "print(precision_score(y_test, [1]*len(y_test)))\n",
    "print(f1_score(y_test, [1]*len(y_test)))"
   ]
  },
  {
   "cell_type": "code",
   "execution_count": 59,
   "id": "f431e5c1-91b5-48ee-a890-ab9fb991ebd9",
   "metadata": {},
   "outputs": [
    {
     "name": "stdout",
     "output_type": "stream",
     "text": [
      "0.0\n",
      "0.0\n",
      "0.0\n"
     ]
    },
    {
     "name": "stderr",
     "output_type": "stream",
     "text": [
      "/Users/evgenijgrinev/opt/anaconda3/lib/python3.9/site-packages/sklearn/metrics/_classification.py:1318: UndefinedMetricWarning: Precision is ill-defined and being set to 0.0 due to no predicted samples. Use `zero_division` parameter to control this behavior.\n",
      "  _warn_prf(average, modifier, msg_start, len(result))\n"
     ]
    }
   ],
   "source": [
    "# prediction = 0\n",
    "print(recall_score(y_test, [0]*len(y_test)))\n",
    "print(precision_score(y_test, [0]*len(y_test)))\n",
    "print(f1_score(y_test, [0]*len(y_test)))"
   ]
  },
  {
   "cell_type": "code",
   "execution_count": 60,
   "id": "9c93e61f-b0ae-4376-9a92-69dd9f9cce3e",
   "metadata": {},
   "outputs": [],
   "source": [
    "# proba = logreg.predict_proba(X_test_standart)\n",
    "predictions = proba[:, 1].copy()\n",
    "# predictions\n",
    "predictions[np.where(predictions > 0.1)] = 1\n",
    "predictions[np.where(predictions <= 0.1)] = 0"
   ]
  },
  {
   "cell_type": "code",
   "execution_count": 64,
   "id": "9a1aa1da-48bf-4ab5-b52c-de8d81726445",
   "metadata": {},
   "outputs": [],
   "source": [
    "# proba = logreg.predict_proba(X_test_standart)\n",
    "predictions2 = proba[:, 1].copy()\n",
    "# predictions\n",
    "predictions2[np.where(predictions2 > 0.5)] = 1\n",
    "predictions2[np.where(predictions2 <= 0.5)] = 0"
   ]
  },
  {
   "cell_type": "code",
   "execution_count": 66,
   "id": "8d2ea16e-532b-4cc6-8935-043e137e42f3",
   "metadata": {},
   "outputs": [
    {
     "name": "stdout",
     "output_type": "stream",
     "text": [
      "0.5436081242532855\n",
      "0.18708881578947367\n",
      "0.278372591006424\n"
     ]
    }
   ],
   "source": [
    "# при предсказании с порогом 0.5\n",
    "print(recall_score(y_test, predictions))\n",
    "print(precision_score(y_test, predictions))\n",
    "print(f1_score(y_test, predictions))\n"
   ]
  },
  {
   "cell_type": "code",
   "execution_count": 67,
   "id": "e26edd08-1e53-454f-b392-029d8fbff99c",
   "metadata": {},
   "outputs": [
    {
     "name": "stdout",
     "output_type": "stream",
     "text": [
      "0.010752688172043012\n",
      "0.42857142857142855\n",
      "0.02097902097902098\n"
     ]
    }
   ],
   "source": [
    "# при предсказании с порогом 0.5\n",
    "print(recall_score(y_test, predictions2))\n",
    "print(precision_score(y_test, predictions2))\n",
    "print(f1_score(y_test, predictions2))\n"
   ]
  }
 ],
 "metadata": {
  "kernelspec": {
   "display_name": "Python 3 (ipykernel)",
   "language": "python",
   "name": "python3"
  },
  "language_info": {
   "codemirror_mode": {
    "name": "ipython",
    "version": 3
   },
   "file_extension": ".py",
   "mimetype": "text/x-python",
   "name": "python",
   "nbconvert_exporter": "python",
   "pygments_lexer": "ipython3",
   "version": "3.10.9"
  }
 },
 "nbformat": 4,
 "nbformat_minor": 5
}
