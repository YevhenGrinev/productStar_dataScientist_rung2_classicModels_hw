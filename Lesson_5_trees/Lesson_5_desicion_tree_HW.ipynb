{
 "cells": [
  {
   "cell_type": "code",
   "execution_count": 42,
   "id": "cebeb7bb-d7f8-427a-9163-fcb14f41d607",
   "metadata": {},
   "outputs": [],
   "source": [
    "from typing import Tuple\n",
    "\n",
    "import pandas as pd\n",
    "import numpy as np\n",
    "from matplotlib import pyplot as plt\n",
    "\n",
    "from sklearn.metrics import roc_auc_score\n",
    "from sklearn.tree import DecisionTreeRegressor, DecisionTreeClassifier\n",
    "from sklearn.model_selection import train_test_split, validation_curve, learning_curve"
   ]
  },
  {
   "cell_type": "code",
   "execution_count": 43,
   "id": "aabda115-1c53-40f4-9ec9-fe53cdaef66a",
   "metadata": {},
   "outputs": [],
   "source": [
    "data = pd.read_csv('./ieee-fraud-detection/data.csv')"
   ]
  },
  {
   "cell_type": "code",
   "execution_count": 44,
   "id": "bfcd187b-4b6e-4045-88d3-bbaaa0a434a0",
   "metadata": {},
   "outputs": [
    {
     "name": "stdout",
     "output_type": "stream",
     "text": [
      "Row: 100000, columns: 394\n"
     ]
    }
   ],
   "source": [
    "print('Row: {}, columns: {}'.format(*data.shape))"
   ]
  },
  {
   "cell_type": "code",
   "execution_count": 45,
   "id": "0963ff21-370b-4294-9b53-07a535000016",
   "metadata": {},
   "outputs": [
    {
     "data": {
      "text/html": [
       "<div>\n",
       "<style scoped>\n",
       "    .dataframe tbody tr th:only-of-type {\n",
       "        vertical-align: middle;\n",
       "    }\n",
       "\n",
       "    .dataframe tbody tr th {\n",
       "        vertical-align: top;\n",
       "    }\n",
       "\n",
       "    .dataframe thead th {\n",
       "        text-align: right;\n",
       "    }\n",
       "</style>\n",
       "<table border=\"1\" class=\"dataframe\">\n",
       "  <thead>\n",
       "    <tr style=\"text-align: right;\">\n",
       "      <th></th>\n",
       "      <th>TransactionID</th>\n",
       "      <th>isFraud</th>\n",
       "      <th>TransactionDT</th>\n",
       "      <th>TransactionAmt</th>\n",
       "      <th>ProductCD</th>\n",
       "      <th>card1</th>\n",
       "      <th>card2</th>\n",
       "      <th>card3</th>\n",
       "      <th>card4</th>\n",
       "      <th>card5</th>\n",
       "      <th>...</th>\n",
       "      <th>V330</th>\n",
       "      <th>V331</th>\n",
       "      <th>V332</th>\n",
       "      <th>V333</th>\n",
       "      <th>V334</th>\n",
       "      <th>V335</th>\n",
       "      <th>V336</th>\n",
       "      <th>V337</th>\n",
       "      <th>V338</th>\n",
       "      <th>V339</th>\n",
       "    </tr>\n",
       "  </thead>\n",
       "  <tbody>\n",
       "    <tr>\n",
       "      <th>0</th>\n",
       "      <td>2987000</td>\n",
       "      <td>0</td>\n",
       "      <td>86400</td>\n",
       "      <td>68.5</td>\n",
       "      <td>W</td>\n",
       "      <td>13926</td>\n",
       "      <td>NaN</td>\n",
       "      <td>150.0</td>\n",
       "      <td>discover</td>\n",
       "      <td>142.0</td>\n",
       "      <td>...</td>\n",
       "      <td>NaN</td>\n",
       "      <td>NaN</td>\n",
       "      <td>NaN</td>\n",
       "      <td>NaN</td>\n",
       "      <td>NaN</td>\n",
       "      <td>NaN</td>\n",
       "      <td>NaN</td>\n",
       "      <td>NaN</td>\n",
       "      <td>NaN</td>\n",
       "      <td>NaN</td>\n",
       "    </tr>\n",
       "    <tr>\n",
       "      <th>1</th>\n",
       "      <td>2987001</td>\n",
       "      <td>0</td>\n",
       "      <td>86401</td>\n",
       "      <td>29.0</td>\n",
       "      <td>W</td>\n",
       "      <td>2755</td>\n",
       "      <td>404.0</td>\n",
       "      <td>150.0</td>\n",
       "      <td>mastercard</td>\n",
       "      <td>102.0</td>\n",
       "      <td>...</td>\n",
       "      <td>NaN</td>\n",
       "      <td>NaN</td>\n",
       "      <td>NaN</td>\n",
       "      <td>NaN</td>\n",
       "      <td>NaN</td>\n",
       "      <td>NaN</td>\n",
       "      <td>NaN</td>\n",
       "      <td>NaN</td>\n",
       "      <td>NaN</td>\n",
       "      <td>NaN</td>\n",
       "    </tr>\n",
       "  </tbody>\n",
       "</table>\n",
       "<p>2 rows × 394 columns</p>\n",
       "</div>"
      ],
      "text/plain": [
       "   TransactionID  isFraud  TransactionDT  TransactionAmt ProductCD  card1  \\\n",
       "0        2987000        0          86400            68.5         W  13926   \n",
       "1        2987001        0          86401            29.0         W   2755   \n",
       "\n",
       "   card2  card3       card4  card5  ... V330  V331  V332  V333  V334 V335  \\\n",
       "0    NaN  150.0    discover  142.0  ...  NaN   NaN   NaN   NaN   NaN  NaN   \n",
       "1  404.0  150.0  mastercard  102.0  ...  NaN   NaN   NaN   NaN   NaN  NaN   \n",
       "\n",
       "  V336  V337  V338  V339  \n",
       "0  NaN   NaN   NaN   NaN  \n",
       "1  NaN   NaN   NaN   NaN  \n",
       "\n",
       "[2 rows x 394 columns]"
      ]
     },
     "execution_count": 45,
     "metadata": {},
     "output_type": "execute_result"
    }
   ],
   "source": [
    "data.head(n=2)"
   ]
  },
  {
   "cell_type": "raw",
   "id": "13c1ec63-8c43-4eb2-9211-7e62c533a671",
   "metadata": {},
   "source": [
    "task 1"
   ]
  },
  {
   "cell_type": "code",
   "execution_count": null,
   "id": "f41d7515-2b6a-41e3-b0ab-f52f24f97c3d",
   "metadata": {},
   "outputs": [],
   "source": [
    "# no_nan_list = []\n",
    "# for i in range(len(data_hw.isna().sum())):\n",
    "#                if data_hw.isna().sum()[i] == 0:\n",
    "#                    no_nan_list.append(data_hw.columns[i])\n",
    "                \n",
    "# print(len(no_nan_list))"
   ]
  },
  {
   "cell_type": "code",
   "execution_count": 46,
   "id": "5f224a8d-e9c1-460f-bb67-0aefaaea4fb8",
   "metadata": {},
   "outputs": [],
   "source": [
    "columns = ['TransactionID', 'isFraud', 'TransactionDT', 'TransactionAmt', 'ProductCD', 'card1', 'C1', 'C2', 'C3', 'C4', 'C5', 'C6', 'C7', 'C8', 'C9', 'C10', 'C11', 'C12', 'C13', 'C14', 'D1', 'V95', 'V96', 'V97', 'V98', 'V99', 'V100', 'V101', 'V102', 'V103', 'V104', 'V105', 'V106', 'V107', 'V108', 'V109', 'V110', 'V111', 'V112', 'V113', 'V114', 'V115', 'V116', 'V117', 'V118', 'V119', 'V120', 'V121', 'V122', 'V123', 'V124', 'V125', 'V126', 'V127', 'V128', 'V129', 'V130', 'V131', 'V132', 'V133', 'V134', 'V135', 'V136', 'V137', 'V281', 'V282', 'V283', 'V288', 'V289', 'V296', 'V300', 'V301', 'V313', 'V314', 'V315']"
   ]
  },
  {
   "cell_type": "code",
   "execution_count": 47,
   "id": "139c124a-59fc-4ad9-83ea-2ddadadfb3bf",
   "metadata": {},
   "outputs": [
    {
     "data": {
      "text/html": [
       "<div>\n",
       "<style scoped>\n",
       "    .dataframe tbody tr th:only-of-type {\n",
       "        vertical-align: middle;\n",
       "    }\n",
       "\n",
       "    .dataframe tbody tr th {\n",
       "        vertical-align: top;\n",
       "    }\n",
       "\n",
       "    .dataframe thead th {\n",
       "        text-align: right;\n",
       "    }\n",
       "</style>\n",
       "<table border=\"1\" class=\"dataframe\">\n",
       "  <thead>\n",
       "    <tr style=\"text-align: right;\">\n",
       "      <th></th>\n",
       "      <th>TransactionID</th>\n",
       "      <th>isFraud</th>\n",
       "      <th>TransactionDT</th>\n",
       "      <th>TransactionAmt</th>\n",
       "      <th>ProductCD</th>\n",
       "      <th>card1</th>\n",
       "      <th>C1</th>\n",
       "      <th>C2</th>\n",
       "      <th>C3</th>\n",
       "      <th>C4</th>\n",
       "      <th>...</th>\n",
       "      <th>V282</th>\n",
       "      <th>V283</th>\n",
       "      <th>V288</th>\n",
       "      <th>V289</th>\n",
       "      <th>V296</th>\n",
       "      <th>V300</th>\n",
       "      <th>V301</th>\n",
       "      <th>V313</th>\n",
       "      <th>V314</th>\n",
       "      <th>V315</th>\n",
       "    </tr>\n",
       "  </thead>\n",
       "  <tbody>\n",
       "    <tr>\n",
       "      <th>0</th>\n",
       "      <td>2987000</td>\n",
       "      <td>0</td>\n",
       "      <td>86400</td>\n",
       "      <td>68.5</td>\n",
       "      <td>W</td>\n",
       "      <td>13926</td>\n",
       "      <td>1.0</td>\n",
       "      <td>1.0</td>\n",
       "      <td>0.0</td>\n",
       "      <td>0.0</td>\n",
       "      <td>...</td>\n",
       "      <td>1.0</td>\n",
       "      <td>1.0</td>\n",
       "      <td>0.0</td>\n",
       "      <td>0.0</td>\n",
       "      <td>0.0</td>\n",
       "      <td>0.0</td>\n",
       "      <td>0.0</td>\n",
       "      <td>0.0</td>\n",
       "      <td>0.0</td>\n",
       "      <td>0.0</td>\n",
       "    </tr>\n",
       "    <tr>\n",
       "      <th>1</th>\n",
       "      <td>2987001</td>\n",
       "      <td>0</td>\n",
       "      <td>86401</td>\n",
       "      <td>29.0</td>\n",
       "      <td>W</td>\n",
       "      <td>2755</td>\n",
       "      <td>1.0</td>\n",
       "      <td>1.0</td>\n",
       "      <td>0.0</td>\n",
       "      <td>0.0</td>\n",
       "      <td>...</td>\n",
       "      <td>1.0</td>\n",
       "      <td>1.0</td>\n",
       "      <td>0.0</td>\n",
       "      <td>0.0</td>\n",
       "      <td>0.0</td>\n",
       "      <td>0.0</td>\n",
       "      <td>0.0</td>\n",
       "      <td>0.0</td>\n",
       "      <td>0.0</td>\n",
       "      <td>0.0</td>\n",
       "    </tr>\n",
       "  </tbody>\n",
       "</table>\n",
       "<p>2 rows × 75 columns</p>\n",
       "</div>"
      ],
      "text/plain": [
       "   TransactionID  isFraud  TransactionDT  TransactionAmt ProductCD  card1  \\\n",
       "0        2987000        0          86400            68.5         W  13926   \n",
       "1        2987001        0          86401            29.0         W   2755   \n",
       "\n",
       "    C1   C2   C3   C4  ...  V282  V283  V288  V289  V296  V300  V301  V313  \\\n",
       "0  1.0  1.0  0.0  0.0  ...   1.0   1.0   0.0   0.0   0.0   0.0   0.0   0.0   \n",
       "1  1.0  1.0  0.0  0.0  ...   1.0   1.0   0.0   0.0   0.0   0.0   0.0   0.0   \n",
       "\n",
       "   V314  V315  \n",
       "0   0.0   0.0  \n",
       "1   0.0   0.0  \n",
       "\n",
       "[2 rows x 75 columns]"
      ]
     },
     "execution_count": 47,
     "metadata": {},
     "output_type": "execute_result"
    }
   ],
   "source": [
    "data_hw = data[columns]\n",
    "data_hw.head(n=2)"
   ]
  },
  {
   "cell_type": "code",
   "execution_count": 48,
   "id": "2dead9bd-a588-4253-97a6-ba2ccbf7a08a",
   "metadata": {},
   "outputs": [
    {
     "name": "stdout",
     "output_type": "stream",
     "text": [
      "X_train rows: 70000, columns: 72\n",
      "X_valid rows: 30000, columns: 72\n"
     ]
    }
   ],
   "source": [
    "x_train, x_valid = train_test_split(\n",
    "    data_hw.drop(columns=['TransactionID', 'isFraud', 'ProductCD'], axis=1), train_size=0.7, shuffle=True, random_state=1\n",
    ")\n",
    "\n",
    "y_train, y_valid = train_test_split(\n",
    "    data_hw['isFraud'], train_size=0.7, shuffle=True, random_state=1\n",
    ")\n",
    "\n",
    "print('X_train rows: {}, columns: {}'.format(*x_train.shape))\n",
    "print('X_valid rows: {}, columns: {}'.format(*x_valid.shape))"
   ]
  },
  {
   "cell_type": "code",
   "execution_count": 49,
   "id": "57c01302-f604-4b2c-9505-525c40a7b4c2",
   "metadata": {},
   "outputs": [
    {
     "data": {
      "text/plain": [
       "DecisionTreeClassifier(random_state=1)"
      ]
     },
     "execution_count": 49,
     "metadata": {},
     "output_type": "execute_result"
    }
   ],
   "source": [
    "model = DecisionTreeClassifier(random_state=1)\n",
    "model.fit(x_train, y_train)"
   ]
  },
  {
   "cell_type": "code",
   "execution_count": 50,
   "id": "e6d86c42-434f-4ea8-8bfd-fe9b955bd560",
   "metadata": {},
   "outputs": [
    {
     "name": "stdout",
     "output_type": "stream",
     "text": [
      "train_score: 1.0, valid_score 0.7307758047789912\n"
     ]
    }
   ],
   "source": [
    "train_score = roc_auc_score(y_train, model.predict_proba(x_train)[:,1])\n",
    "valid_score = roc_auc_score(y_valid, model.predict_proba(x_valid)[:,1])\n",
    "\n",
    "print('train_score: {}, valid_score {}'.format(train_score, valid_score))"
   ]
  },
  {
   "cell_type": "raw",
   "id": "35f6fec1-ed12-4799-bfe4-dcefd05c2ab2",
   "metadata": {},
   "source": [
    "task 1: answer = 1"
   ]
  },
  {
   "cell_type": "raw",
   "id": "2b6760ce-565c-4d75-ac67-ed000d171f88",
   "metadata": {},
   "source": [
    "task 2: answer = 0.7844"
   ]
  },
  {
   "cell_type": "raw",
   "id": "4987b250-9b08-47bb-8dda-376af0cec29b",
   "metadata": {},
   "source": [
    "task 3"
   ]
  },
  {
   "cell_type": "code",
   "execution_count": 69,
   "id": "13d6ecff-42bf-4d94-9d63-a3b9f1efe1a0",
   "metadata": {},
   "outputs": [],
   "source": [
    "train_score, valid_score = validation_curve(\n",
    "    X=x_train,\n",
    "    y=y_train,\n",
    "    estimator= DecisionTreeClassifier(random_state=1),\n",
    "    param_range=[-1, 2, 3, 4, 5, 6, 7, 8, 9, 10, 11, 12, 13, 14, 15],\n",
    "    param_name='max_depth',\n",
    "    scoring='roc_auc',\n",
    "    n_jobs=-1,\n",
    "    cv=5,\n",
    ")"
   ]
  },
  {
   "cell_type": "code",
   "execution_count": 59,
   "id": "233f1788-db84-47d2-a50c-c5099f56f4a3",
   "metadata": {},
   "outputs": [
    {
     "data": {
      "text/plain": [
       "10"
      ]
     },
     "execution_count": 59,
     "metadata": {},
     "output_type": "execute_result"
    }
   ],
   "source": [
    "train_score.shape[0]"
   ]
  },
  {
   "cell_type": "code",
   "execution_count": 66,
   "id": "06eac248-9dcd-45cd-b5a3-6087a39c853e",
   "metadata": {},
   "outputs": [
    {
     "data": {
      "text/plain": [
       "array([[       nan,        nan,        nan,        nan,        nan],\n",
       "       [0.68155682, 0.69858257, 0.6871069 , 0.68597058, 0.68060311],\n",
       "       [0.73990016, 0.75395593, 0.74602613, 0.74657011, 0.73978945],\n",
       "       [0.76524601, 0.79175149, 0.76797595, 0.7860416 , 0.78486431],\n",
       "       [0.79765361, 0.8059977 , 0.80201199, 0.80367561, 0.80433679],\n",
       "       [0.80154282, 0.81143283, 0.81128207, 0.8128971 , 0.81260329],\n",
       "       [0.81502766, 0.82109178, 0.82745362, 0.82303826, 0.82196339],\n",
       "       [0.83016063, 0.84234994, 0.84034743, 0.8373083 , 0.8360453 ],\n",
       "       [0.84461035, 0.85751338, 0.85095557, 0.85113161, 0.84432569],\n",
       "       [0.85310491, 0.86828861, 0.85946382, 0.86197959, 0.85888538]])"
      ]
     },
     "execution_count": 66,
     "metadata": {},
     "output_type": "execute_result"
    }
   ],
   "source": [
    "train_score"
   ]
  },
  {
   "cell_type": "code",
   "execution_count": 68,
   "id": "d5a217cc-44b8-4b0d-b867-edefa2268591",
   "metadata": {},
   "outputs": [
    {
     "data": {
      "text/plain": [
       "array([       nan, 0.686764  , 0.74524835, 0.77917587, 0.80273514,\n",
       "       0.80995162, 0.82171494, 0.83724232, 0.84970732, 0.86034446])"
      ]
     },
     "execution_count": 68,
     "metadata": {},
     "output_type": "execute_result"
    }
   ],
   "source": [
    "np.mean(train_score, axis=1)"
   ]
  },
  {
   "cell_type": "code",
   "execution_count": 29,
   "id": "0b45a230-e2a1-4f40-9ae9-fb46b947cd48",
   "metadata": {},
   "outputs": [],
   "source": [
    "def plot_validation_curves(train_scores: np.array,\n",
    "                           valid_scores: np.array,\n",
    "                           figsize: Tuple[int, int] = (8, 8)\n",
    "                          ):\n",
    "    \"\"\"\n",
    "    Визуализация процесса настройки гиперпараметра\n",
    "    алгоритма машинного обучения. Визуализируется значение\n",
    "    метрики качества на обучащей и тестовой части данных, на\n",
    "    валидационной части данных и доверительные интервалы.\n",
    "\n",
    "    Parameters\n",
    "    ----------\n",
    "    train_scores: np.array\n",
    "        Значения метрики качества на обучающей выборке.\n",
    "\n",
    "    valid_scores: np.array\n",
    "        Значения метрики качества на валидационной выборке.\n",
    "\n",
    "    \"\"\"\n",
    "    fig = plt.figure(figsize=figsize)\n",
    "\n",
    "    #plt.subplot(121)\n",
    "    plt.title(\"Validation Curves\", size=15)\n",
    "    plt.plot(\n",
    "        range(train_scores.shape[0]),\n",
    "        np.mean(train_scores, axis=1),\n",
    "        label=\"train\",\n",
    "        linewidth=3,\n",
    "        marker=\"s\"\n",
    "    )\n",
    "    plt.fill_between(\n",
    "        x=range(train_scores.shape[0]),\n",
    "        y1=np.mean(train_scores, axis=1)-np.std(train_scores, axis=1),\n",
    "        y2=np.mean(train_scores, axis=1)+np.std(train_scores, axis=1),\n",
    "        alpha=0.25\n",
    "    )\n",
    "    #plt.subplot(121)\n",
    "    plt.plot(\n",
    "        range(train_scores.shape[0]),\n",
    "        np.mean(valid_scores, axis=1),\n",
    "        label=\"valid\",\n",
    "        linewidth=3,\n",
    "        marker=\"s\"\n",
    "    )\n",
    "    plt.fill_between(\n",
    "        x=range(train_scores.shape[0]),\n",
    "        y1=np.mean(valid_scores, axis=1)-np.std(valid_scores, axis=1),\n",
    "        y2=np.mean(valid_scores, axis=1)+np.std(valid_scores, axis=1),\n",
    "        alpha=0.25\n",
    "    )\n",
    "    plt.legend(loc=\"best\", fontsize=14)\n",
    "    plt.ylabel(\"roc_auc\", size=15)"
   ]
  },
  {
   "cell_type": "code",
   "execution_count": 70,
   "id": "dff7791e-9e9a-4313-9bf8-f4c8b1ad0305",
   "metadata": {},
   "outputs": [
    {
     "data": {
      "image/png": "[encoded data removed]",
      "text/plain": [
       "<Figure size 800x800 with 1 Axes>"
      ]
     },
     "metadata": {},
     "output_type": "display_data"
    }
   ],
   "source": [
    "plot_validation_curves(train_score, valid_score)"
   ]
  },
  {
   "cell_type": "raw",
   "id": "afaa1515-e3f4-491f-ae56-9c16f08e66e6",
   "metadata": {},
   "source": [
    "task 3: answer = 7"
   ]
  }
 ],
 "metadata": {
  "kernelspec": {
   "display_name": "Python 3 (ipykernel)",
   "language": "python",
   "name": "python3"
  },
  "language_info": {
   "codemirror_mode": {
    "name": "ipython",
    "version": 3
   },
   "file_extension": ".py",
   "mimetype": "text/x-python",
   "name": "python",
   "nbconvert_exporter": "python",
   "pygments_lexer": "ipython3",
   "version": "3.10.9"
  }
 },
 "nbformat": 4,
 "nbformat_minor": 5
}
