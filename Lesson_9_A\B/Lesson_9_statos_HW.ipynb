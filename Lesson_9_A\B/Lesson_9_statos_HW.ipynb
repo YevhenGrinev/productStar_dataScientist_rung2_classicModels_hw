{
 "cells": [
  {
   "cell_type": "code",
   "execution_count": 2,
   "id": "5545d70b-7223-4e53-9b84-d460fe74ecbd",
   "metadata": {
    "tags": []
   },
   "outputs": [],
   "source": [
    "import warnings\n",
    "import pandas as pd\n",
    "import numpy as np\n",
    "\n",
    "import scipy.stats as st\n",
    "from scipy.stats import probplot\n",
    "from scipy.stats import anderson, shapiro\n",
    "\n",
    "warnings.simplefilter('ignore')"
   ]
  },
  {
   "cell_type": "raw",
   "id": "21e3ed50-9c21-4394-8aa5-88c7a05a9394",
   "metadata": {},
   "source": [
    "task 1"
   ]
  },
  {
   "cell_type": "code",
   "execution_count": 4,
   "id": "343eb40b-9de9-4e03-a542-7b053efd7cfd",
   "metadata": {
    "tags": []
   },
   "outputs": [
    {
     "name": "stdout",
     "output_type": "stream",
     "text": [
      "0.104\n"
     ]
    }
   ],
   "source": [
    "n = 100\n",
    "sigma = 100\n",
    "mu_0 = 525\n",
    "x_mean = 541.4\n",
    "\n",
    "stats = np.sqrt(n) * (x_mean - mu_0) / sigma\n",
    "p_value = st.norm.pdf(stats)\n",
    "\n",
    "print(round(p_value, 4))"
   ]
  },
  {
   "cell_type": "raw",
   "id": "977a0f2c-a963-4042-80cf-89e27c550f30",
   "metadata": {},
   "source": [
    "task 1, answer: 0.104"
   ]
  },
  {
   "cell_type": "raw",
   "id": "a3558daa-2374-412f-9c7f-99a03c3eeeca",
   "metadata": {},
   "source": [
    "task 2"
   ]
  },
  {
   "cell_type": "code",
   "execution_count": 8,
   "id": "21598d89-a923-416c-9e9e-7fa048b138bd",
   "metadata": {
    "tags": []
   },
   "outputs": [],
   "source": [
    "def proportions_diff_z_stat_ind(sample1, sample2):\n",
    "    n1 = len(sample1)\n",
    "    n2 = len(sample2)\n",
    "    \n",
    "    p1 = float(sum(sample1)) / n1\n",
    "    p2 = float(sum(sample2)) / n2\n",
    "    P = float(p1*n1 + p2*n2) / (n1 + n2)\n",
    "    \n",
    "    return (p1 - p2) / np.sqrt(P * (1 - P) * (1. / n1 + 1. / n2))\n",
    "\n",
    "def two_sampled_independent_samples(stat, alternative = 'two-sided'):\n",
    "    if alternative not in ('two-sided','less','greater'):\n",
    "        raise ValueError(\"alternative not recognized\\n\"\n",
    "                         \"should be 'two-sided', 'less' or 'greater'\")\n",
    "        \n",
    "    if alternative == 'two-sided':\n",
    "        return 2 * (1 - st.norm.cdf(np.abs(stat)))\n",
    "    \n",
    "    if alternative == 'less':\n",
    "        return st.norm.cdf(stat)\n",
    "    \n",
    "    if alternative == 'greater':\n",
    "        return 1 - st.norm.cdf(stat)"
   ]
  },
  {
   "cell_type": "code",
   "execution_count": 43,
   "id": "3cbd1554-ecc0-4aad-b717-f300093d00bf",
   "metadata": {
    "tags": []
   },
   "outputs": [
    {
     "data": {
      "text/plain": [
       "0.3961"
      ]
     },
     "execution_count": 43,
     "metadata": {},
     "output_type": "execute_result"
    }
   ],
   "source": [
    "x_1 = np.random.randint(0, 2, size=100)\n",
    "x_2 = np.random.randint(0, 2, size=100)\n",
    "\n",
    "stat =  proportions_diff_z_stat_ind(x_1, x_2)\n",
    "p_value = two_sampled_independent_samples(stat)\n",
    "round(p_value, 4)"
   ]
  },
  {
   "cell_type": "raw",
   "id": "4733e7d8-3136-4c85-bf8a-72228fd2e785",
   "metadata": {},
   "source": [
    "task2 , answer = 0.0844"
   ]
  },
  {
   "cell_type": "raw",
   "id": "470894b1-02b3-4468-b596-0e1a6da2ced3",
   "metadata": {},
   "source": [
    "task 3 "
   ]
  },
  {
   "cell_type": "code",
   "execution_count": 44,
   "id": "13eb8610-d29e-445c-96b7-1a5096bc601d",
   "metadata": {
    "tags": []
   },
   "outputs": [],
   "source": [
    "def proportions_diff_z_stat_rel(sample1, sample2):\n",
    "    sample = list(zip(sample1, sample2))\n",
    "    n = len(sample)\n",
    "    \n",
    "    f = sum([1 if (x[0] == 1 and x[1] == 0) else 0 for x in sample])\n",
    "    g = sum([1 if (x[0] == 0 and x[1] == 1) else 0 for x in sample])\n",
    "    \n",
    "    return float(f - g) / np.sqrt(f + g - float((f - g)**2) / n )"
   ]
  },
  {
   "cell_type": "code",
   "execution_count": 62,
   "id": "43b037d4-43cb-477a-b406-3fc876214daa",
   "metadata": {
    "tags": []
   },
   "outputs": [],
   "source": [
    "x_1 = np.random.randint(0, 2, size=100)\n",
    "x_2 = np.random.randint(0, 2, size=100)"
   ]
  },
  {
   "cell_type": "code",
   "execution_count": 64,
   "id": "38ae18ae-6a06-4fec-b42b-7e4c9054bd77",
   "metadata": {
    "tags": []
   },
   "outputs": [
    {
     "name": "stdout",
     "output_type": "stream",
     "text": [
      "p_value = 0.7772\n"
     ]
    }
   ],
   "source": [
    "stat = proportions_diff_z_stat_rel(x_1, x_2)\n",
    "p_value = two_sampled_independent_samples(stat)\n",
    "\n",
    "print(f\"p_value = {round(p_value, 4)}\")"
   ]
  },
  {
   "cell_type": "raw",
   "id": "779fbfcc-2318-4920-b461-dd573a3ce561",
   "metadata": {},
   "source": [
    "task 3, answer = 0.0033"
   ]
  }
 ],
 "metadata": {
  "kernelspec": {
   "display_name": "Python 3 (ipykernel)",
   "language": "python",
   "name": "python3"
  },
  "language_info": {
   "codemirror_mode": {
    "name": "ipython",
    "version": 3
   },
   "file_extension": ".py",
   "mimetype": "text/x-python",
   "name": "python",
   "nbconvert_exporter": "python",
   "pygments_lexer": "ipython3",
   "version": "3.10.10"
  }
 },
 "nbformat": 4,
 "nbformat_minor": 5
}
